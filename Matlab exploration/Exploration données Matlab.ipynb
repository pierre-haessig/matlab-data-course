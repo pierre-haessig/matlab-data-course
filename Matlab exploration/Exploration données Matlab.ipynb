{
 "cells": [
  {
   "cell_type": "markdown",
   "metadata": {},
   "source": [
    "# Exploration de données temporelles avec Matlab\n",
    "\n",
    "Pierre Haessig & Marie-Anne Lefèbvre – octobre 2019"
   ]
  },
  {
   "cell_type": "code",
   "execution_count": 77,
   "metadata": {},
   "outputs": [
    {
     "name": "stdout",
     "output_type": "stream",
     "text": [
      "9.5.0.1178774 (R2018b) Update 5\n"
     ]
    },
    {
     "name": "stderr",
     "output_type": "stream",
     "text": []
    }
   ],
   "source": [
    "disp(version) % Matlab version: should be R2018b"
   ]
  },
  {
   "cell_type": "markdown",
   "metadata": {},
   "source": [
    "Configuration : affichage des graphiques \"inline\" (cf imatlab's [README](https://github.com/imatlab/imatlab#inline-graphics))"
   ]
  },
  {
   "cell_type": "code",
   "execution_count": 28,
   "metadata": {},
   "outputs": [
    {
     "name": "stdout",
     "output_type": "stream",
     "text": []
    },
    {
     "name": "stderr",
     "output_type": "stream",
     "text": []
    }
   ],
   "source": [
    "imatlab_export_fig('print-png')  % Static png figures.\n",
    "%imatlab_export_fig('')  % Native windows."
   ]
  },
  {
   "cell_type": "markdown",
   "metadata": {},
   "source": [
    "## 1) Chargement & prétraitements des données"
   ]
  },
  {
   "cell_type": "markdown",
   "metadata": {},
   "source": [
    "### Charger fichier de données avec `readtable`\n",
    "\n",
    "Objectif : charger le fichier `data/meteo_rennes_2015.txt`"
   ]
  },
  {
   "cell_type": "code",
   "execution_count": 1,
   "metadata": {},
   "outputs": [
    {
     "name": "stdout",
     "output_type": "stream",
     "text": [
      "\n",
      "opts = \n",
      "\n",
      "  DelimitedTextImportOptions with properties:\n",
      "\n",
      "   Format Properties:\n",
      "                    Delimiter: {'\\t'  ' '}\n",
      "                   Whitespace: '\\b'\n",
      "                   LineEnding: {'\\n'  '\\r'  '\\r\\n'}\n",
      "                 CommentStyle: {}\n",
      "    ConsecutiveDelimitersRule: 'join'\n",
      "        LeadingDelimitersRule: 'ignore'\n",
      "                EmptyLineRule: 'skip'\n",
      "                     Encoding: 'windows-1252'\n",
      "\n",
      "   Replacement Properties:\n",
      "                  MissingRule: 'fill'\n",
      "              ImportErrorRule: 'fill'\n",
      "             ExtraColumnsRule: 'addvars'\n",
      "\n",
      "   Variable Import Properties: Set types by name using setvartype\n",
      "                VariableNames: {'Var1', 'Var2', 'Var3' ... and 9 more}\n",
      "                VariableTypes: {'double', 'double', 'double' ... and 9 more}\n",
      "        SelectedVariableNames: {'Var1', 'Var2', 'Var3' ... and 9 more}\n",
      "              VariableOptions: [1x12 matlab.io.NumericVariableImportOptions] \n",
      "\tAccess VariableOptions sub-properties using setvaropts/getvaropts\n",
      "\n",
      "   Location Properties:\n",
      "                    DataLines: [1 Inf]\n",
      "            VariableNamesLine: 0\n",
      "               RowNamesColumn: 0\n",
      "            VariableUnitsLine: 0\n",
      "     VariableDescriptionsLine: 0 \n",
      "\tTo display a preview of the table, use preview\n",
      "\n"
     ]
    },
    {
     "name": "stderr",
     "output_type": "stream",
     "text": []
    }
   ],
   "source": [
    "opts = detectImportOptions('data/meteo_rennes_2015.txt')"
   ]
  },
  {
   "cell_type": "markdown",
   "metadata": {},
   "source": [
    "[readtable](https://fr.mathworks.com/help/matlab/ref/readtable.html): Create table from file"
   ]
  },
  {
   "cell_type": "code",
   "execution_count": 2,
   "metadata": {},
   "outputs": [
    {
     "name": "stdout",
     "output_type": "stream",
     "text": []
    },
    {
     "name": "stderr",
     "output_type": "stream",
     "text": []
    }
   ],
   "source": [
    "meteo = readtable('data/meteo_rennes_2015.txt', opts);"
   ]
  },
  {
   "cell_type": "markdown",
   "metadata": {},
   "source": [
    "[head](https://fr.mathworks.com/help/matlab/ref/head.html): Get top rows of table, timetable, or tall array"
   ]
  },
  {
   "cell_type": "code",
   "execution_count": 4,
   "metadata": {},
   "outputs": [
    {
     "name": "stdout",
     "output_type": "stream",
     "text": [
      "\n",
      "ans =\n",
      "\n",
      "  3x12 table\n",
      "\n",
      "    Var1    Var2    Var3    Var4    Var5    Var6    Var7     Var8    Var9    Var10    Var11    Var12\n",
      "    ____    ____    ____    ____    ____    ____    _____    ____    ____    _____    _____    _____\n",
      "\n",
      "    2015     1       1       0      -25     -35     10376    140      15       0      -9999        0\n",
      "    2015     1       1       1      -30     -40     -9999    150      10       0      -9999    -9999\n",
      "    2015     1       1       2      -30     -40     -9999    150      10       0      -9999    -9999\n",
      "\n"
     ]
    },
    {
     "name": "stderr",
     "output_type": "stream",
     "text": []
    }
   ],
   "source": [
    "head(meteo, 3)"
   ]
  },
  {
   "cell_type": "markdown",
   "metadata": {},
   "source": [
    "Cosmétique (facultatif) : renommage des noms des colonnes via les [table.Properties](https://fr.mathworks.com/help/matlab/ref/table.html#mw_cb8d6608-0cf9-4164-b1f8-7bce6caa23ce)"
   ]
  },
  {
   "cell_type": "code",
   "execution_count": 24,
   "metadata": {},
   "outputs": [
    {
     "name": "stdout",
     "output_type": "stream",
     "text": []
    },
    {
     "name": "stderr",
     "output_type": "stream",
     "text": []
    }
   ],
   "source": [
    "meteo.Properties.VariableNames(1) = {'Annee'};\n",
    "meteo.Properties.VariableNames(2) = {'Mois'};\n",
    "meteo.Properties.VariableNames(3) = {'Jour'};\n",
    "meteo.Properties.VariableNames(4) = {'Heure'};\n",
    "meteo.Properties.VariableNames(5) = {'Temp'};"
   ]
  },
  {
   "cell_type": "markdown",
   "metadata": {},
   "source": [
    "Mise à l'échelle de la température (cf. documentation du jeu de données [data/ISD-Lite 2006 format.pdf](data/ISD-Lite%202006%20format.pdf))"
   ]
  },
  {
   "cell_type": "code",
   "execution_count": 9,
   "metadata": {},
   "outputs": [
    {
     "name": "stdout",
     "output_type": "stream",
     "text": []
    },
    {
     "name": "stderr",
     "output_type": "stream",
     "text": []
    }
   ],
   "source": [
    "meteo.Temp = meteo.Temp/10;"
   ]
  },
  {
   "cell_type": "code",
   "execution_count": 10,
   "metadata": {},
   "outputs": [
    {
     "name": "stdout",
     "output_type": "stream",
     "text": [
      "\n",
      "ans =\n",
      "\n",
      "  3x12 table\n",
      "\n",
      "    Annee    Mois    Jour    Heure    Temp    Var6    Var7     Var8    Var9    Var10    Var11    Var12\n",
      "    _____    ____    ____    _____    ____    ____    _____    ____    ____    _____    _____    _____\n",
      "\n",
      "    2015      1       1        0      -2.5    -35     10376    140      15       0      -9999        0\n",
      "    2015      1       1        1        -3    -40     -9999    150      10       0      -9999    -9999\n",
      "    2015      1       1        2        -3    -40     -9999    150      10       0      -9999    -9999\n",
      "\n"
     ]
    },
    {
     "name": "stderr",
     "output_type": "stream",
     "text": []
    }
   ],
   "source": [
    "head(meteo, 3)"
   ]
  },
  {
   "cell_type": "markdown",
   "metadata": {},
   "source": [
    "Copie dans une variable dédiée"
   ]
  },
  {
   "cell_type": "code",
   "execution_count": 25,
   "metadata": {},
   "outputs": [
    {
     "name": "stdout",
     "output_type": "stream",
     "text": [
      "\n",
      "ans =\n",
      "\n",
      "   -2.5000\n",
      "   -3.0000\n",
      "   -3.0000\n",
      "\n"
     ]
    },
    {
     "name": "stderr",
     "output_type": "stream",
     "text": []
    }
   ],
   "source": [
    "Temp = meteo.Temp;\n",
    "Temp(1:3)"
   ]
  },
  {
   "cell_type": "markdown",
   "metadata": {},
   "source": [
    "Remarque : `Temp` est matrice (array) \"classique\" de Matlab"
   ]
  },
  {
   "cell_type": "code",
   "execution_count": 23,
   "metadata": {},
   "outputs": [
    {
     "name": "stdout",
     "output_type": "stream",
     "text": [
      "\n",
      "ans =\n",
      "\n",
      "    'double'\n",
      "\n"
     ]
    },
    {
     "name": "stderr",
     "output_type": "stream",
     "text": []
    }
   ],
   "source": [
    "class(Temp)"
   ]
  },
  {
   "cell_type": "markdown",
   "metadata": {},
   "source": [
    "### Données manquantes ou aberrantes"
   ]
  },
  {
   "cell_type": "markdown",
   "metadata": {},
   "source": [
    "Température moyenne : il fait froid à Rennes !"
   ]
  },
  {
   "cell_type": "code",
   "execution_count": 26,
   "metadata": {},
   "outputs": [
    {
     "name": "stdout",
     "output_type": "stream",
     "text": [
      "\n",
      "ans =\n",
      "\n",
      "    0.0876\n",
      "\n"
     ]
    },
    {
     "name": "stderr",
     "output_type": "stream",
     "text": []
    }
   ],
   "source": [
    "mean(Temp)"
   ]
  },
  {
   "cell_type": "code",
   "execution_count": 29,
   "metadata": {},
   "outputs": [
    {
     "name": "stdout",
     "output_type": "stream",
     "text": []
    },
    {
     "name": "stderr",
     "output_type": "stream",
     "text": []
    },
    {
     "data": {
      "image/png": "[encoded data removed]"
     },
     "metadata": {},
     "output_type": "display_data"
    }
   ],
   "source": [
    "plot(Temp)"
   ]
  },
  {
   "cell_type": "code",
   "execution_count": 30,
   "metadata": {},
   "outputs": [
    {
     "name": "stdout",
     "output_type": "stream",
     "text": [
      "\n",
      "ans =\n",
      "\n",
      " -999.9000\n",
      "\n"
     ]
    },
    {
     "name": "stderr",
     "output_type": "stream",
     "text": []
    }
   ],
   "source": [
    "min(Temp)"
   ]
  },
  {
   "cell_type": "markdown",
   "metadata": {},
   "source": [
    "Le problème : les données manquantes sont notées -9999 dans le fichier (cf. documentation du jeu de données [data/ISD-Lite 2006 format.pdf](data/ISD-Lite%202006%20format.pdf)). La mise à l'échelle a transformée cette valeur en -999.9\n",
    "\n",
    "Solution : marquer ces valeurs comme manquante\n",
    "\n",
    "* Doc : [Missing Data in MATLAB](https://fr.mathworks.com/help/matlab/data_analysis/missing-data-in-matlab.html)\n",
    "* fonction [missing](https://fr.mathworks.com/help/matlab/ref/missing.html): Create missing values\n",
    "\n",
    "Pour cela, on peut se servir du [logical indexing](https://blogs.mathworks.com/steve/2008/01/28/logical-indexing/) (syntaxe très utile en Matlab, mais aussi avec les tableau numpy en Python)"
   ]
  },
  {
   "cell_type": "code",
   "execution_count": 33,
   "metadata": {},
   "outputs": [
    {
     "name": "stdout",
     "output_type": "stream",
     "text": [
      "\n",
      "ans =\n",
      "\n",
      "  3x1 logical array\n",
      "\n",
      "   0\n",
      "   0\n",
      "   0\n",
      "\n"
     ]
    },
    {
     "name": "stderr",
     "output_type": "stream",
     "text": []
    }
   ],
   "source": [
    "Temp_bad = Temp == -999.9;  %crée en logical array\n",
    "Temp_bad(1:3)"
   ]
  },
  {
   "cell_type": "markdown",
   "metadata": {},
   "source": [
    "Combien y a-t-il de valeurs absurdes? → Somme du vecteur logique :"
   ]
  },
  {
   "cell_type": "code",
   "execution_count": 34,
   "metadata": {},
   "outputs": [
    {
     "name": "stdout",
     "output_type": "stream",
     "text": [
      "\n",
      "ans =\n",
      "\n",
      "   105\n",
      "\n"
     ]
    },
    {
     "name": "stderr",
     "output_type": "stream",
     "text": []
    }
   ],
   "source": [
    "sum(Temp_bad)"
   ]
  },
  {
   "cell_type": "code",
   "execution_count": 36,
   "metadata": {},
   "outputs": [
    {
     "name": "stdout",
     "output_type": "stream",
     "text": []
    },
    {
     "name": "stderr",
     "output_type": "stream",
     "text": []
    }
   ],
   "source": [
    "Temp(Temp_bad) = missing;"
   ]
  },
  {
   "cell_type": "markdown",
   "metadata": {},
   "source": [
    "Mais il y a aussi des données non enregistrées\n",
    "\n",
    "cf. https://fr.mathworks.com/help/matlab/ref/height.html"
   ]
  },
  {
   "cell_type": "code",
   "execution_count": 37,
   "metadata": {},
   "outputs": [
    {
     "name": "stdout",
     "output_type": "stream",
     "text": [
      "\n",
      "ans =\n",
      "\n",
      "    21\n",
      "\n"
     ]
    },
    {
     "name": "stderr",
     "output_type": "stream",
     "text": []
    }
   ],
   "source": [
    "365*24 - height(meteo)"
   ]
  },
  {
   "cell_type": "markdown",
   "metadata": {},
   "source": [
    "Attention, les changements de la variable `Temp` ne sont pas reproduits dans `meteo.Temp`, car c'est une copie. Il faut donc faire la copie dans l'autre sens"
   ]
  },
  {
   "cell_type": "code",
   "execution_count": 61,
   "metadata": {},
   "outputs": [
    {
     "name": "stdout",
     "output_type": "stream",
     "text": []
    },
    {
     "name": "stderr",
     "output_type": "stream",
     "text": []
    }
   ],
   "source": [
    "meteo.Temp = Temp;"
   ]
  },
  {
   "cell_type": "markdown",
   "metadata": {},
   "source": [
    "A présent, le tracé de la température a bonne allure, mais..."
   ]
  },
  {
   "cell_type": "code",
   "execution_count": 40,
   "metadata": {},
   "outputs": [
    {
     "name": "stdout",
     "output_type": "stream",
     "text": []
    },
    {
     "name": "stderr",
     "output_type": "stream",
     "text": []
    },
    {
     "data": {
      "image/png": "[encoded data removed]"
     },
     "metadata": {},
     "output_type": "display_data"
    }
   ],
   "source": [
    "plot(Temp)\n",
    "grid on;"
   ]
  },
  {
   "cell_type": "markdown",
   "metadata": {},
   "source": [
    "... mais attention, les NaNs *ne sont pas détectables* sur le graphique, même s'ils sont bien présents. Exemple avec un zoom autour de l'indice 2200. "
   ]
  },
  {
   "cell_type": "code",
   "execution_count": 45,
   "metadata": {},
   "outputs": [
    {
     "name": "stdout",
     "output_type": "stream",
     "text": []
    },
    {
     "name": "stderr",
     "output_type": "stream",
     "text": []
    },
    {
     "data": {
      "image/png": "[encoded data removed]"
     },
     "metadata": {},
     "output_type": "display_data"
    }
   ],
   "source": [
    "plot(Temp)\n",
    "xlim([2150 2250])\n",
    "grid on;"
   ]
  },
  {
   "cell_type": "markdown",
   "metadata": {},
   "source": [
    "Calcul de la moyenne : attention à la propagation des NaNs:"
   ]
  },
  {
   "cell_type": "code",
   "execution_count": 42,
   "metadata": {},
   "outputs": [
    {
     "name": "stdout",
     "output_type": "stream",
     "text": [
      "\n",
      "ans =\n",
      "\n",
      "   NaN\n",
      "\n"
     ]
    },
    {
     "name": "stderr",
     "output_type": "stream",
     "text": []
    }
   ],
   "source": [
    "mean(Temp)"
   ]
  },
  {
   "cell_type": "markdown",
   "metadata": {},
   "source": [
    "Doc [Data with Missing Values](https://fr.mathworks.com/help/stats/data-with-missing-values.html)"
   ]
  },
  {
   "cell_type": "code",
   "execution_count": 43,
   "metadata": {},
   "outputs": [
    {
     "name": "stdout",
     "output_type": "stream",
     "text": [
      "\n",
      "ans =\n",
      "\n",
      "   12.2487\n",
      "\n"
     ]
    },
    {
     "name": "stderr",
     "output_type": "stream",
     "text": []
    }
   ],
   "source": [
    "nanmean(Temp)"
   ]
  },
  {
   "cell_type": "markdown",
   "metadata": {},
   "source": [
    "Pour voir la répartition des données : histogramme \n",
    "\n",
    "cf. [histogram](https://fr.mathworks.com/help/matlab/ref/matlab.graphics.chart.primitive.histogram.html)"
   ]
  },
  {
   "cell_type": "code",
   "execution_count": 70,
   "metadata": {},
   "outputs": [
    {
     "name": "stdout",
     "output_type": "stream",
     "text": []
    },
    {
     "name": "stderr",
     "output_type": "stream",
     "text": []
    },
    {
     "data": {
      "image/png": "[encoded data removed]"
     },
     "metadata": {},
     "output_type": "display_data"
    }
   ],
   "source": [
    "histogram(Temp)\n",
    "xlabel('Température (°C)')"
   ]
  },
  {
   "cell_type": "markdown",
   "metadata": {},
   "source": [
    "### Dates : parsing (décodage) et représentation\n",
    "\n",
    "Fonction constructeur [datetime](https://fr.mathworks.com/help/matlab/ref/datetime.html): Arrays that represent points in time"
   ]
  },
  {
   "cell_type": "code",
   "execution_count": 51,
   "metadata": {},
   "outputs": [
    {
     "name": "stdout",
     "output_type": "stream",
     "text": [
      "\n",
      "ans = \n",
      "\n",
      "  3x1 datetime array\n",
      "\n",
      "   01-Jan-2015 00:00:00\n",
      "   01-Jan-2015 01:00:00\n",
      "   01-Jan-2015 02:00:00\n",
      "\n"
     ]
    },
    {
     "name": "stderr",
     "output_type": "stream",
     "text": []
    }
   ],
   "source": [
    "meteo_date = datetime(meteo.Annee, meteo.Mois, meteo.Jour,...\n",
    "                      meteo.Heure, 0,0);\n",
    "meteo_date(1:3)"
   ]
  },
  {
   "cell_type": "code",
   "execution_count": 49,
   "metadata": {},
   "outputs": [
    {
     "name": "stdout",
     "output_type": "stream",
     "text": [
      "datetime\n"
     ]
    },
    {
     "name": "stderr",
     "output_type": "stream",
     "text": []
    }
   ],
   "source": [
    "disp(class(meteo_date))"
   ]
  },
  {
   "cell_type": "markdown",
   "metadata": {},
   "source": [
    "Conversion table → timetable\n",
    "\n",
    "Une fois la date décodée, le conteneur `table` peut être converti en `timetable` qui facilite le traitement des données horodatées. \n",
    "*(introduced in R2016b)*.\n",
    "\n",
    "cf [Timetables](https://fr.mathworks.com/help/matlab/timetables.html) doc"
   ]
  },
  {
   "cell_type": "code",
   "execution_count": 62,
   "metadata": {},
   "outputs": [
    {
     "name": "stdout",
     "output_type": "stream",
     "text": [
      "\n",
      "ans =\n",
      "\n",
      "  3x12 timetable\n",
      "\n",
      "            Time            Annee    Mois    Jour    Heure    Temp    Var6    Var7     Var8    Var9    Var10    Var11    Var12\n",
      "    ____________________    _____    ____    ____    _____    ____    ____    _____    ____    ____    _____    _____    _____\n",
      "\n",
      "    01-Jan-2015 00:00:00    2015      1       1        0      -2.5    -35     10376    140      15       0      -9999        0\n",
      "    01-Jan-2015 01:00:00    2015      1       1        1        -3    -40     -9999    150      10       0      -9999    -9999\n",
      "    01-Jan-2015 02:00:00    2015      1       1        2        -3    -40     -9999    150      10       0      -9999    -9999\n",
      "\n"
     ]
    },
    {
     "name": "stderr",
     "output_type": "stream",
     "text": []
    }
   ],
   "source": [
    "meteo_TT = table2timetable(meteo, 'RowTimes', meteo_date);\n",
    "head(meteo_TT, 3)"
   ]
  },
  {
   "cell_type": "markdown",
   "metadata": {},
   "source": [
    "**sélectionner un intervalle de temps**. Exemple : mois de juin \n",
    "\n",
    "méthode 1 (plus générique) avec une indexation par un [timerange](https://fr.mathworks.com/help/matlab/ref/timerange.html)"
   ]
  },
  {
   "cell_type": "code",
   "execution_count": 67,
   "metadata": {},
   "outputs": [
    {
     "name": "stdout",
     "output_type": "stream",
     "text": [
      "   17.1027\n",
      "\n"
     ]
    },
    {
     "name": "stderr",
     "output_type": "stream",
     "text": []
    }
   ],
   "source": [
    "TR = timerange('2015-06-01','2015-07-01');\n",
    "meteo_juin = meteo_TT(TR, :);\n",
    "disp(nanmean(meteo_juin.Temp))"
   ]
  },
  {
   "cell_type": "markdown",
   "metadata": {},
   "source": [
    "méthode 2 (plus spécifique) : avec logical indexing"
   ]
  },
  {
   "cell_type": "code",
   "execution_count": 66,
   "metadata": {},
   "outputs": [
    {
     "name": "stdout",
     "output_type": "stream",
     "text": [
      "   17.1027\n",
      "\n"
     ]
    },
    {
     "name": "stderr",
     "output_type": "stream",
     "text": []
    }
   ],
   "source": [
    "meteo_juin2 = meteo(meteo_date.Month==6, :);\n",
    "disp(nanmean(meteo_juin2.Temp))"
   ]
  },
  {
   "cell_type": "code",
   "execution_count": 71,
   "metadata": {},
   "outputs": [
    {
     "name": "stdout",
     "output_type": "stream",
     "text": []
    },
    {
     "name": "stderr",
     "output_type": "stream",
     "text": []
    },
    {
     "data": {
      "image/png": "[encoded data removed]"
     },
     "metadata": {},
     "output_type": "display_data"
    }
   ],
   "source": [
    "histogram(meteo_juin2.Temp)"
   ]
  },
  {
   "cell_type": "markdown",
   "metadata": {},
   "source": [
    "Pour une comparaison rapide de la distribution *pour chaque mois* : boxplot, en utilisant la variable Mois pour le regroupement\n",
    "\n",
    "https://fr.mathworks.com/help/stats/grouping-variables.html"
   ]
  },
  {
   "cell_type": "code",
   "execution_count": 74,
   "metadata": {},
   "outputs": [
    {
     "name": "stdout",
     "output_type": "stream",
     "text": []
    },
    {
     "name": "stderr",
     "output_type": "stream",
     "text": []
    },
    {
     "data": {
      "image/png": "[encoded data removed]"
     },
     "metadata": {},
     "output_type": "display_data"
    }
   ],
   "source": [
    "boxplot(meteo.Temp, meteo.Mois )\n",
    "% TODO: remplacer le xticklabels numérique par le nom des mois\n",
    "% xticklabels({'Jan',  'Fév','Mar', '...'})"
   ]
  },
  {
   "cell_type": "markdown",
   "metadata": {},
   "source": [
    "## 2) Mise en forme & synchronisation de données\n",
    "\n",
    "Fichiers : log capteur de qualité de l’air salle 404 (et archive météo)\n",
    "\n",
    "Aperçu de `log-20150309-171821.csv` :\n",
    "```\n",
    "date;time;type;value;unit\n",
    "09/03/2015;17:18:29.244;carbon dioxide;1630;ppm\n",
    "09/03/2015;17:19:12.416;indoor relative humidity;37.0;%\n",
    "09/03/2015;17:20:12.689;indoor relative humidity;37.0;%\n",
    "```"
   ]
  },
  {
   "cell_type": "code",
   "execution_count": 75,
   "metadata": {},
   "outputs": [
    {
     "name": "stdout",
     "output_type": "stream",
     "text": [
      "\n",
      "ans =\n",
      "\n",
      "  3x5 table\n",
      "\n",
      "       date           time                   type               value    unit \n",
      "    __________    ____________    __________________________    _____    _____\n",
      "\n",
      "    09/03/2015    17:18:29.244    'carbon dioxide'              1630     'ppm'\n",
      "    09/03/2015    17:19:12.416    'indoor relative humidity'      37     '%'  \n",
      "    09/03/2015    17:20:12.689    'indoor relative humidity'      37     '%'  \n",
      "\n"
     ]
    },
    {
     "name": "stderr",
     "output_type": "stream",
     "text": []
    }
   ],
   "source": [
    "%% Données capteur qualité de l'air\n",
    "log = readtable('./data/log-20150309-171821.csv');\n",
    "head(log, 3)"
   ]
  },
  {
   "cell_type": "markdown",
   "metadata": {},
   "source": [
    "Observation sur les dates :\n",
    "* la colonne `date` est bien parsée en `datetime`\n",
    "* la colonne `time` est bien parsée en `duration` (https://fr.mathworks.com/help/matlab/ref/duration.html)"
   ]
  },
  {
   "cell_type": "code",
   "execution_count": 80,
   "metadata": {},
   "outputs": [
    {
     "name": "stdout",
     "output_type": "stream",
     "text": [
      "datetime\n"
     ]
    },
    {
     "name": "stderr",
     "output_type": "stream",
     "text": []
    }
   ],
   "source": [
    "disp(class(log.date)) % datetime"
   ]
  },
  {
   "cell_type": "code",
   "execution_count": 81,
   "metadata": {},
   "outputs": [
    {
     "name": "stdout",
     "output_type": "stream",
     "text": [
      "duration\n"
     ]
    },
    {
     "name": "stderr",
     "output_type": "stream",
     "text": []
    }
   ],
   "source": [
    "disp(class(log.time)) % cell of string: pb!!"
   ]
  },
  {
   "cell_type": "markdown",
   "metadata": {},
   "source": [
    "Cependant, dans Matlab R2017b, colonne `time` n'était pas parsée. Il fallait faire le décodage à la main:"
   ]
  },
  {
   "cell_type": "code",
   "execution_count": null,
   "metadata": {},
   "outputs": [],
   "source": [
    "% log_time = datetime(log.time, 'InputFormat', 'HH:mm:ss.SSS');\n",
    "% log_time = timeofday(log_time); % datetime → duration"
   ]
  },
  {
   "cell_type": "markdown",
   "metadata": {},
   "source": [
    "Combinaison de la date et de l'heure : addition. Cependant, l'affichage est *trompeur*"
   ]
  },
  {
   "cell_type": "code",
   "execution_count": 89,
   "metadata": {},
   "outputs": [
    {
     "name": "stdout",
     "output_type": "stream",
     "text": [
      "   09/03/2015\n",
      "   09/03/2015\n",
      "   09/03/2015\n",
      "\n"
     ]
    },
    {
     "name": "stderr",
     "output_type": "stream",
     "text": []
    }
   ],
   "source": [
    "log_datetime = log.date + log.time;\n",
    "disp(log_datetime(1:3))"
   ]
  },
  {
   "cell_type": "markdown",
   "metadata": {},
   "source": [
    "**À lire absolument** : [datetime.Format](https://fr.mathworks.com/help/matlab/ref/datetime.html#buhzxmk-1-Format)"
   ]
  },
  {
   "cell_type": "code",
   "execution_count": 90,
   "metadata": {},
   "outputs": [
    {
     "name": "stdout",
     "output_type": "stream",
     "text": [
      "\n",
      "ans =\n",
      "\n",
      "    'dd/MM/uuuu'\n",
      "\n"
     ]
    },
    {
     "name": "stderr",
     "output_type": "stream",
     "text": []
    }
   ],
   "source": [
    "log_datetime.Format"
   ]
  },
  {
   "cell_type": "code",
   "execution_count": 93,
   "metadata": {},
   "outputs": [
    {
     "name": "stdout",
     "output_type": "stream",
     "text": [
      "   2015-03-09 17:18:29.244\n",
      "   2015-03-09 17:19:12.416\n",
      "   2015-03-09 17:20:12.689\n",
      "\n"
     ]
    },
    {
     "name": "stderr",
     "output_type": "stream",
     "text": []
    }
   ],
   "source": [
    "%log_datetime.Format = 'default';\n",
    "log_datetime.Format = 'yyyy-MM-dd HH:mm:ss.SSS';\n",
    "disp(log_datetime(1:3))"
   ]
  },
  {
   "cell_type": "code",
   "execution_count": 94,
   "metadata": {},
   "outputs": [
    {
     "name": "stdout",
     "output_type": "stream",
     "text": [
      "\n",
      "ans =\n",
      "\n",
      "  3x5 timetable\n",
      "\n",
      "             Time                 date           time                   type               value    unit \n",
      "    _______________________    __________    ____________    __________________________    _____    _____\n",
      "\n",
      "    2015-03-09 17:18:29.244    09/03/2015    17:18:29.244    'carbon dioxide'              1630     'ppm'\n",
      "    2015-03-09 17:19:12.416    09/03/2015    17:19:12.416    'indoor relative humidity'      37     '%'  \n",
      "    2015-03-09 17:20:12.689    09/03/2015    17:20:12.689    'indoor relative humidity'      37     '%'  \n",
      "\n"
     ]
    },
    {
     "name": "stderr",
     "output_type": "stream",
     "text": []
    }
   ],
   "source": [
    "log_TT = table2timetable(log, 'RowTimes', log_datetime);\n",
    "head(log_TT, 3)"
   ]
  },
  {
   "cell_type": "markdown",
   "metadata": {},
   "source": [
    "De façon générale, le datetime Format est la seule solution pour parser des dates suffisamment bizarres pour que Matlab ne détecte pas le format tout seul. Exemple :"
   ]
  },
  {
   "cell_type": "code",
   "execution_count": 122,
   "metadata": {},
   "outputs": [
    {
     "name": "stdout",
     "output_type": "stream",
     "text": [
      "Error using datetime (line 635)\n",
      "Could not recognize the format of the date/time text. You can specify a format using the 'InputFormat' parameter. If the date/time text contain day, month, or time zone names in a language foreign to the 'en_US' locale, those might not be recognized. You can specify a different locale using the 'Locale' parameter.\n"
     ]
    },
    {
     "name": "stderr",
     "output_type": "stream",
     "text": []
    }
   ],
   "source": [
    "dates_bizarres = {'01/09/2019 à 01h25' '01/10/2019 à 02h45'};\n",
    "datetime(dates_bizarres)"
   ]
  },
  {
   "cell_type": "code",
   "execution_count": 123,
   "metadata": {},
   "outputs": [
    {
     "name": "stdout",
     "output_type": "stream",
     "text": [
      "\n",
      "ans = \n",
      "\n",
      "  1x2 datetime array\n",
      "\n",
      "   01-Sep-2019 01:25:00   01-Oct-2019 02:45:00\n",
      "\n"
     ]
    },
    {
     "name": "stderr",
     "output_type": "stream",
     "text": []
    }
   ],
   "source": [
    "datetime(dates_bizarres, 'InputFormat', 'dd/MM/yyyy à HH''h''mm' )"
   ]
  },
  {
   "cell_type": "markdown",
   "metadata": {},
   "source": [
    "### Variable categorielle"
   ]
  },
  {
   "cell_type": "code",
   "execution_count": 95,
   "metadata": {},
   "outputs": [
    {
     "name": "stdout",
     "output_type": "stream",
     "text": [
      "\n",
      "ans =\n",
      "\n",
      "    'cell'\n",
      "\n"
     ]
    },
    {
     "name": "stderr",
     "output_type": "stream",
     "text": []
    }
   ],
   "source": [
    "class(log.type)"
   ]
  },
  {
   "cell_type": "code",
   "execution_count": 99,
   "metadata": {},
   "outputs": [
    {
     "name": "stdout",
     "output_type": "stream",
     "text": [
      "\n",
      "ans =\n",
      "\n",
      "    'char'\n",
      "\n"
     ]
    },
    {
     "name": "stderr",
     "output_type": "stream",
     "text": []
    }
   ],
   "source": [
    "class(log.type{1})"
   ]
  },
  {
   "cell_type": "markdown",
   "metadata": {},
   "source": [
    "Colonne `type` : 118 008 chaines de caractères, pesant 18 Mo"
   ]
  },
  {
   "cell_type": "code",
   "execution_count": 102,
   "metadata": {},
   "outputs": [
    {
     "name": "stdout",
     "output_type": "stream",
     "text": [
      "  Name           Size               Bytes  Class    Attributes\n",
      "\n",
      "  type      118008x1             18202288  cell               \n",
      "\n"
     ]
    },
    {
     "name": "stderr",
     "output_type": "stream",
     "text": []
    }
   ],
   "source": [
    "type = log.type;\n",
    "whos type"
   ]
  },
  {
   "cell_type": "markdown",
   "metadata": {},
   "source": [
    "La conversion en [categorical](https://fr.mathworks.com/help/matlab/ref/categorical.html) ramène le poids à peine plus de 118 ko (~1 octet par élément)"
   ]
  },
  {
   "cell_type": "code",
   "execution_count": 103,
   "metadata": {},
   "outputs": [
    {
     "name": "stdout",
     "output_type": "stream",
     "text": [
      "  Name           Size             Bytes  Class          Attributes\n",
      "\n",
      "  type      118008x1             118916  categorical              \n",
      "\n"
     ]
    },
    {
     "name": "stderr",
     "output_type": "stream",
     "text": []
    }
   ],
   "source": [
    "type = categorical(type);\n",
    "whos type"
   ]
  },
  {
   "cell_type": "markdown",
   "metadata": {},
   "source": [
    "Observer la disparition des `'` dans la colonne `type`"
   ]
  },
  {
   "cell_type": "code",
   "execution_count": 104,
   "metadata": {},
   "outputs": [
    {
     "name": "stdout",
     "output_type": "stream",
     "text": [
      "\n",
      "ans =\n",
      "\n",
      "  3x5 table\n",
      "\n",
      "       date           time                  type              value    unit \n",
      "    __________    ____________    ________________________    _____    _____\n",
      "\n",
      "    09/03/2015    17:18:29.244    carbon dioxide              1630     'ppm'\n",
      "    09/03/2015    17:19:12.416    indoor relative humidity      37     '%'  \n",
      "    09/03/2015    17:20:12.689    indoor relative humidity      37     '%'  \n",
      "\n"
     ]
    },
    {
     "name": "stderr",
     "output_type": "stream",
     "text": []
    }
   ],
   "source": [
    "log.type = type;\n",
    "head(log, 3)"
   ]
  },
  {
   "cell_type": "markdown",
   "metadata": {},
   "source": [
    "### Empilement/désempilement\n",
    "\n",
    "Les données sont dans un format dit \"long\" ([vs \"narrow\"](https://en.wikipedia.org/wiki/Wide_and_narrow_data)) aussi appelé \"empilé\" (EN : \"stacked\").\n",
    "\n",
    "Pour récupére un seul type de mesure, le logical indexing est suffisant"
   ]
  },
  {
   "cell_type": "code",
   "execution_count": 107,
   "metadata": {},
   "outputs": [
    {
     "name": "stdout",
     "output_type": "stream",
     "text": [
      "    0.1492\n",
      "\n"
     ]
    },
    {
     "name": "stderr",
     "output_type": "stream",
     "text": []
    }
   ],
   "source": [
    "a = type == 'indoor temperature';\n",
    "disp(mean(a)) % proportion de mesures de ce type parmi toutes les mesures"
   ]
  },
  {
   "cell_type": "code",
   "execution_count": 109,
   "metadata": {},
   "outputs": [
    {
     "name": "stdout",
     "output_type": "stream",
     "text": [
      "\n",
      "ans = \n",
      "\n",
      "  6x1 categorical array\n",
      "\n",
      "     carbon dioxide \n",
      "     indoor relative humidity \n",
      "     indoor temperature \n",
      "     outdoor temperature \n",
      "     solar Irradiance \n",
      "     volatile organic compounds \n",
      "\n"
     ]
    },
    {
     "name": "stderr",
     "output_type": "stream",
     "text": []
    }
   ],
   "source": [
    "unique(log.type) % all the existing channel names"
   ]
  },
  {
   "cell_type": "code",
   "execution_count": 132,
   "metadata": {},
   "outputs": [
    {
     "name": "stdout",
     "output_type": "stream",
     "text": [
      "\n",
      "ans =\n",
      "\n",
      "  3x1 timetable\n",
      "\n",
      "             Time              value\n",
      "    _______________________    _____\n",
      "\n",
      "    2015-03-09 17:21:02.496    23.4 \n",
      "    2015-03-09 17:24:03.886    23.3 \n",
      "    2015-03-09 17:27:03.094    23.3 \n",
      "\n"
     ]
    },
    {
     "name": "stderr",
     "output_type": "stream",
     "text": []
    }
   ],
   "source": [
    "Temp = log_TT(type == 'indoor temperature', 'value'); %si on veut plusieurs colonnes, utiliser un cell-array {'type', 'value'}\n",
    "Text_DD = log_TT(type == 'outdoor temperature', 'value');\n",
    "CO2 = log_TT(type == 'carbon dioxide', 'value');\n",
    "\n",
    "head(Temp, 3)"
   ]
  },
  {
   "cell_type": "code",
   "execution_count": 133,
   "metadata": {},
   "outputs": [
    {
     "name": "stdout",
     "output_type": "stream",
     "text": [
      "\n",
      "ans =\n",
      "\n",
      "  3x1 timetable\n",
      "\n",
      "             Time              Temp\n",
      "    _______________________    ____\n",
      "\n",
      "    2015-03-09 17:21:02.496    23.4\n",
      "    2015-03-09 17:24:03.886    23.3\n",
      "    2015-03-09 17:27:03.094    23.3\n",
      "\n"
     ]
    },
    {
     "name": "stderr",
     "output_type": "stream",
     "text": []
    }
   ],
   "source": [
    "% Rename 'value' to the corresponding value type\n",
    "Temp.Properties.VariableNames = {'Temp'};\n",
    "Text_DD.Properties.VariableNames = {'Text_DD'};\n",
    "CO2.Properties.VariableNames = {'CO2'};\n",
    "\n",
    "head(Temp, 3)"
   ]
  },
  {
   "cell_type": "markdown",
   "metadata": {},
   "source": [
    "Désempilement automatique: [unstack](https://fr.mathworks.com/help/matlab/ref/unstack.html)"
   ]
  },
  {
   "cell_type": "code",
   "execution_count": 166,
   "metadata": {},
   "outputs": [
    {
     "name": "stdout",
     "output_type": "stream",
     "text": [
      "Warning: Variable names were modified to make them valid MATLAB identifiers.\n",
      "\n",
      "ans =\n",
      "\n",
      "  3x6 timetable\n",
      "\n",
      "             Time              carbonDioxide    indoorRelativeHumidity    indoorTemperature    outdoorTemperature    solarIrradiance    volatileOrganicCompounds\n",
      "    _______________________    _____________    ______________________    _________________    __________________    _______________    ________________________\n",
      "\n",
      "    2015-03-09 17:18:29.244        1630                  NaN                     NaN                  NaN                  NaN                    NaN           \n",
      "    2015-03-09 17:19:12.416         NaN                   37                     NaN                  NaN                  NaN                    NaN           \n",
      "    2015-03-09 17:20:12.689         NaN                   37                     NaN                  NaN                  NaN                    NaN           \n",
      "\n"
     ]
    },
    {
     "name": "stderr",
     "output_type": "stream",
     "text": []
    }
   ],
   "source": [
    "a = unstack(log_TT, 'value', 'type'); % a est plein de NaNs\n",
    "head(a, 3)"
   ]
  },
  {
   "cell_type": "markdown",
   "metadata": {},
   "source": [
    "Régularité de l'échantillonage : non"
   ]
  },
  {
   "cell_type": "code",
   "execution_count": 191,
   "metadata": {},
   "outputs": [
    {
     "name": "stdout",
     "output_type": "stream",
     "text": [
      "   0\n",
      "\n"
     ]
    },
    {
     "name": "stderr",
     "output_type": "stream",
     "text": []
    }
   ],
   "source": [
    "disp(isregular(log_TT))"
   ]
  },
  {
   "cell_type": "markdown",
   "metadata": {},
   "source": [
    "### Rééchantillonnage et agrégation\n",
    "\n",
    "https://fr.mathworks.com/help/matlab/ref/timetable.retime.html\n",
    "\n",
    "Pour un rééchantillonage 'daily', 'hourly', 'minutely'... :\n",
    "\n",
    "```\n",
    "TT2 = retime(TT1,newTimeStep)\n",
    "TT2 = retime(TT1,newTimeStep,method)\n",
    "```\n",
    "\n",
    "Pour pouvoir spécifier le pas de temps de façon plus fine ([R2018a](https://fr.mathworks.com/help/matlab/release-notes.html?category=data-analysis&rntext=retime&startrelease=R2018a&endrelease=R2018a&groupby=release&sortby=descending&searchHighlight=retime))\n",
    "\n",
    "```\n",
    "TT2 = retime(TT1,'regular',method,'TimeStep',dt)\n",
    "TT2 = retime(TT1,'regular','TimeStep',dt)\n",
    "```"
   ]
  },
  {
   "cell_type": "code",
   "execution_count": 167,
   "metadata": {},
   "outputs": [
    {
     "name": "stdout",
     "output_type": "stream",
     "text": []
    },
    {
     "name": "stderr",
     "output_type": "stream",
     "text": []
    }
   ],
   "source": [
    "log_1m = retime(a, 'minutely', 'previous');\n",
    "head(log_1m,5);"
   ]
  },
  {
   "cell_type": "code",
   "execution_count": 175,
   "metadata": {},
   "outputs": [
    {
     "name": "stdout",
     "output_type": "stream",
     "text": []
    },
    {
     "name": "stderr",
     "output_type": "stream",
     "text": []
    }
   ],
   "source": [
    "log_3m = retime(a, 'regular', 'previous', 'TimeStep', minutes(3));"
   ]
  },
  {
   "cell_type": "code",
   "execution_count": 174,
   "metadata": {},
   "outputs": [
    {
     "name": "stdout",
     "output_type": "stream",
     "text": [
      "\n",
      "ans =\n",
      "\n",
      "  10x3 timetable\n",
      "\n",
      "             Time              carbonDioxide    indoorRelativeHumidity    indoorTemperature\n",
      "    _______________________    _____________    ______________________    _________________\n",
      "\n",
      "    2015-03-09 17:18:00.000         NaN                  NaN                     NaN       \n",
      "    2015-03-09 17:19:00.000        1630                  NaN                     NaN       \n",
      "    2015-03-09 17:20:00.000        1630                   37                     NaN       \n",
      "    2015-03-09 17:21:00.000        1630                   36                     NaN       \n",
      "    2015-03-09 17:22:00.000        1630                   36                    23.4       \n",
      "    2015-03-09 17:23:00.000        1630                   36                    23.4       \n",
      "    2015-03-09 17:24:00.000        1630                   36                    23.4       \n",
      "    2015-03-09 17:25:00.000        1630                   36                    23.3       \n",
      "    2015-03-09 17:26:00.000        1630                   36                    23.3       \n",
      "    2015-03-09 17:27:00.000        1630                   36                    23.3       \n",
      "\n"
     ]
    },
    {
     "name": "stderr",
     "output_type": "stream",
     "text": []
    }
   ],
   "source": [
    "log_1m(1:10, 1:3)"
   ]
  },
  {
   "cell_type": "code",
   "execution_count": 176,
   "metadata": {},
   "outputs": [
    {
     "name": "stdout",
     "output_type": "stream",
     "text": [
      "\n",
      "ans =\n",
      "\n",
      "  4x3 timetable\n",
      "\n",
      "             Time              carbonDioxide    indoorRelativeHumidity    indoorTemperature\n",
      "    _______________________    _____________    ______________________    _________________\n",
      "\n",
      "    2015-03-09 17:18:00.000         NaN                  NaN                     NaN       \n",
      "    2015-03-09 17:21:00.000        1630                   36                     NaN       \n",
      "    2015-03-09 17:24:00.000        1630                   36                    23.4       \n",
      "    2015-03-09 17:27:00.000        1630                   36                    23.3       \n",
      "\n"
     ]
    },
    {
     "name": "stderr",
     "output_type": "stream",
     "text": []
    }
   ],
   "source": [
    "log_3m(1:4, 1:3)"
   ]
  },
  {
   "cell_type": "code",
   "execution_count": 190,
   "metadata": {},
   "outputs": [
    {
     "name": "stdout",
     "output_type": "stream",
     "text": [
      "   1\n",
      "\n"
     ]
    },
    {
     "name": "stderr",
     "output_type": "stream",
     "text": []
    }
   ],
   "source": [
    "disp(isregular(log_3m))"
   ]
  },
  {
   "cell_type": "markdown",
   "metadata": {},
   "source": [
    "### Statistiques par groupes (bonus)\n",
    "\n",
    "cf.\n",
    "\n",
    "* doc [Summary Statistics Grouped by Category](https://fr.mathworks.com/help/stats/summary-statistics-grouped-by-category.html) (Warning: makes use of data in the deprecated `dataset array` type)\n",
    "* \n",
    "https://fr.mathworks.com/help/stats/grpstats.html"
   ]
  },
  {
   "cell_type": "code",
   "execution_count": 163,
   "metadata": {},
   "outputs": [
    {
     "name": "stdout",
     "output_type": "stream",
     "text": []
    },
    {
     "name": "stderr",
     "output_type": "stream",
     "text": []
    },
    {
     "data": {
      "image/png": "[encoded data removed]"
     },
     "metadata": {},
     "output_type": "display_data"
    }
   ],
   "source": [
    "[Temp_by_hour_avg, Temp_by_hour_max, Temp_by_hour_min]  = grpstats(Temp.Temp, Temp.Time.Hour, {'mean', 'max', 'min'});\n",
    "plot(Temp_by_hour_avg)\n",
    "hold on\n",
    "plot(Temp_by_hour_max)\n",
    "plot(Temp_by_hour_min)"
   ]
  },
  {
   "cell_type": "markdown",
   "metadata": {},
   "source": [
    "La resynchro permet de faire des nuages de points par exemple (et puis ensuite des régressions et autre analyses)"
   ]
  },
  {
   "cell_type": "code",
   "execution_count": 184,
   "metadata": {},
   "outputs": [
    {
     "name": "stdout",
     "output_type": "stream",
     "text": []
    },
    {
     "name": "stderr",
     "output_type": "stream",
     "text": []
    },
    {
     "data": {
      "image/png": "[encoded data removed]"
     },
     "metadata": {},
     "output_type": "display_data"
    }
   ],
   "source": [
    "plot(log_3m.indoorTemperature, log_3m.carbonDioxide, '.')\n",
    "xlabel('Temp int °C')\n",
    "ylabel('CO2 (ppm)')"
   ]
  },
  {
   "cell_type": "markdown",
   "metadata": {},
   "source": [
    "### Choix de la méthode de rééchantillonnage."
   ]
  },
  {
   "cell_type": "markdown",
   "metadata": {},
   "source": [
    "Tracer un nuage de point de la température extérieure (issue du capteur de la salle 404) vs la température à Rennes de l’archive météo."
   ]
  },
  {
   "cell_type": "code",
   "execution_count": 185,
   "metadata": {},
   "outputs": [
    {
     "name": "stdout",
     "output_type": "stream",
     "text": []
    },
    {
     "name": "stderr",
     "output_type": "stream",
     "text": []
    }
   ],
   "source": [
    "%..."
   ]
  },
  {
   "cell_type": "markdown",
   "metadata": {},
   "source": [
    "## 3) Recap final\n",
    "\n",
    "Fichiers : fiche de présence salle 404 (et log qualité de l’air, archive météo)"
   ]
  }
 ],
 "metadata": {
  "kernelspec": {
   "display_name": "MATLAB",
   "language": "matlab",
   "name": "imatlab"
  },
  "language_info": {
   "codemirror_mode": "octave",
   "file_extension": ".m",
   "mimetype": "text/x-matlab",
   "name": "matlab",
   "nbconvert_exporter": "imatlab._exporter.MatlabExporter",
   "pygments_lexer": "matlab",
   "version": "9.5.0.1178774 (R2018b) Update 5"
  }
 },
 "nbformat": 4,
 "nbformat_minor": 4
}
