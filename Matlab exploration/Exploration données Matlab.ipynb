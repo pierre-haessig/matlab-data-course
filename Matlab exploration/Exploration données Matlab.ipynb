{
 "cells": [
  {
   "cell_type": "markdown",
   "metadata": {},
   "source": [
    "# Exploration de données temporelles avec Matlab\n",
    "\n",
    "Pierre Haessig & Marie-Anne Lefèbvre – octobre 2019"
   ]
  },
  {
   "cell_type": "markdown",
   "metadata": {},
   "source": [
    "Vérification version Matlab: R2018b attendu"
   ]
  },
  {
   "cell_type": "code",
   "execution_count": 1,
   "metadata": {},
   "outputs": [
    {
     "name": "stdout",
     "output_type": "stream",
     "text": [
      "9.5.0.1178774 (R2018b) Update 5\n"
     ]
    }
   ],
   "source": [
    "disp(version) "
   ]
  },
  {
   "cell_type": "markdown",
   "metadata": {},
   "source": [
    "Configuration : affichage des graphiques \"inline\" (cf imatlab's [README](https://github.com/imatlab/imatlab#inline-graphics))"
   ]
  },
  {
   "cell_type": "code",
   "execution_count": 2,
   "metadata": {},
   "outputs": [],
   "source": [
    "imatlab_export_fig('print-png')  % Static png figures.\n",
    "%imatlab_export_fig('')  % Native windows."
   ]
  },
  {
   "cell_type": "markdown",
   "metadata": {},
   "source": [
    "## 1) Chargement & prétraitements des données"
   ]
  },
  {
   "cell_type": "markdown",
   "metadata": {},
   "source": [
    "### Charger fichier de données avec `readtable`\n",
    "\n",
    "Objectif : charger le fichier `data/meteo_rennes_2015.txt`"
   ]
  },
  {
   "cell_type": "code",
   "execution_count": 3,
   "metadata": {},
   "outputs": [
    {
     "name": "stdout",
     "output_type": "stream",
     "text": [
      "\n",
      "opts = \n",
      "\n",
      "  DelimitedTextImportOptions with properties:\n",
      "\n",
      "   Format Properties:\n",
      "                    Delimiter: {'\\t'  ' '}\n",
      "                   Whitespace: '\\b'\n",
      "                   LineEnding: {'\\n'  '\\r'  '\\r\\n'}\n",
      "                 CommentStyle: {}\n",
      "    ConsecutiveDelimitersRule: 'join'\n",
      "        LeadingDelimitersRule: 'ignore'\n",
      "                EmptyLineRule: 'skip'\n",
      "                     Encoding: 'windows-1252'\n",
      "\n",
      "   Replacement Properties:\n",
      "                  MissingRule: 'fill'\n",
      "              ImportErrorRule: 'fill'\n",
      "             ExtraColumnsRule: 'addvars'\n",
      "\n",
      "   Variable Import Properties: Set types by name using setvartype\n",
      "                VariableNames: {'Var1', 'Var2', 'Var3' ... and 9 more}\n",
      "                VariableTypes: {'double', 'double', 'double' ... and 9 more}\n",
      "        SelectedVariableNames: {'Var1', 'Var2', 'Var3' ... and 9 more}\n",
      "              VariableOptions: [1x12 matlab.io.NumericVariableImportOptions] \n",
      "\tAccess VariableOptions sub-properties using setvaropts/getvaropts\n",
      "\n",
      "   Location Properties:\n",
      "                    DataLines: [1 Inf]\n",
      "            VariableNamesLine: 0\n",
      "               RowNamesColumn: 0\n",
      "            VariableUnitsLine: 0\n",
      "     VariableDescriptionsLine: 0 \n",
      "\tTo display a preview of the table, use preview\n",
      "\n"
     ]
    }
   ],
   "source": [
    "opts = detectImportOptions('data/meteo_rennes_2015.txt')"
   ]
  },
  {
   "cell_type": "markdown",
   "metadata": {},
   "source": [
    "[readtable](https://fr.mathworks.com/help/matlab/ref/readtable.html): Create table from file"
   ]
  },
  {
   "cell_type": "code",
   "execution_count": 4,
   "metadata": {},
   "outputs": [],
   "source": [
    "meteo = readtable('data/meteo_rennes_2015.txt', opts);"
   ]
  },
  {
   "cell_type": "markdown",
   "metadata": {},
   "source": [
    "[head](https://fr.mathworks.com/help/matlab/ref/head.html): Get top rows of table, timetable, or tall array"
   ]
  },
  {
   "cell_type": "code",
   "execution_count": 5,
   "metadata": {},
   "outputs": [
    {
     "name": "stdout",
     "output_type": "stream",
     "text": [
      "\n",
      "ans =\n",
      "\n",
      "  3x12 table\n",
      "\n",
      "    Var1    Var2    Var3    Var4    Var5    Var6    Var7     Var8    Var9    Var10    Var11    Var12\n",
      "    ____    ____    ____    ____    ____    ____    _____    ____    ____    _____    _____    _____\n",
      "\n",
      "    2015     1       1       0      -25     -35     10376    140      15       0      -9999        0\n",
      "    2015     1       1       1      -30     -40     -9999    150      10       0      -9999    -9999\n",
      "    2015     1       1       2      -30     -40     -9999    150      10       0      -9999    -9999\n",
      "\n"
     ]
    }
   ],
   "source": [
    "head(meteo, 3)"
   ]
  },
  {
   "cell_type": "markdown",
   "metadata": {},
   "source": [
    "Cosmétique (facultatif) : renommage des noms des colonnes via les [table.Properties](https://fr.mathworks.com/help/matlab/ref/table.html#mw_cb8d6608-0cf9-4164-b1f8-7bce6caa23ce)"
   ]
  },
  {
   "cell_type": "code",
   "execution_count": 6,
   "metadata": {},
   "outputs": [],
   "source": [
    "meteo.Properties.VariableNames(1) = {'Annee'};\n",
    "meteo.Properties.VariableNames(2) = {'Mois'};\n",
    "meteo.Properties.VariableNames(3) = {'Jour'};\n",
    "meteo.Properties.VariableNames(4) = {'Heure'};\n",
    "meteo.Properties.VariableNames(5) = {'Temp'};"
   ]
  },
  {
   "cell_type": "markdown",
   "metadata": {},
   "source": [
    "Mise à l'échelle de la température (cf. documentation du jeu de données [data/ISD-Lite 2006 format.pdf](data/ISD-Lite%202006%20format.pdf))"
   ]
  },
  {
   "cell_type": "code",
   "execution_count": 7,
   "metadata": {},
   "outputs": [],
   "source": [
    "meteo.Temp = meteo.Temp/10;"
   ]
  },
  {
   "cell_type": "code",
   "execution_count": 8,
   "metadata": {},
   "outputs": [
    {
     "name": "stdout",
     "output_type": "stream",
     "text": [
      "\n",
      "ans =\n",
      "\n",
      "  3x12 table\n",
      "\n",
      "    Annee    Mois    Jour    Heure    Temp    Var6    Var7     Var8    Var9    Var10    Var11    Var12\n",
      "    _____    ____    ____    _____    ____    ____    _____    ____    ____    _____    _____    _____\n",
      "\n",
      "    2015      1       1        0      -2.5    -35     10376    140      15       0      -9999        0\n",
      "    2015      1       1        1        -3    -40     -9999    150      10       0      -9999    -9999\n",
      "    2015      1       1        2        -3    -40     -9999    150      10       0      -9999    -9999\n",
      "\n"
     ]
    }
   ],
   "source": [
    "head(meteo, 3)"
   ]
  },
  {
   "cell_type": "markdown",
   "metadata": {},
   "source": [
    "Copie d'une colonne dans une autre variable"
   ]
  },
  {
   "cell_type": "code",
   "execution_count": 10,
   "metadata": {},
   "outputs": [
    {
     "name": "stdout",
     "output_type": "stream",
     "text": [
      "\n",
      "ans =\n",
      "\n",
      "   -2.5000\n",
      "   -3.0000\n",
      "   -3.0000\n",
      "\n"
     ]
    }
   ],
   "source": [
    "Temp = meteo.Temp;\n",
    "Temp(1:3)"
   ]
  },
  {
   "cell_type": "markdown",
   "metadata": {},
   "source": [
    "Remarque : `Temp` est matrice (array) « classique » de Matlab. Si on veut extraire une colonne en gardant le type `table`, il faut utiliser la syntaxe de slicing"
   ]
  },
  {
   "cell_type": "code",
   "execution_count": 149,
   "metadata": {},
   "outputs": [
    {
     "name": "stdout",
     "output_type": "stream",
     "text": [
      "\n",
      "ans =\n",
      "\n",
      "    'double'\n",
      "\n",
      "\n",
      "ans =\n",
      "\n",
      "    'table'\n",
      "\n"
     ]
    }
   ],
   "source": [
    "class(meteo.Temp)\n",
    "class(meteo(:,'Temp'))"
   ]
  },
  {
   "cell_type": "markdown",
   "metadata": {},
   "source": [
    "### Données manquantes ou aberrantes"
   ]
  },
  {
   "cell_type": "markdown",
   "metadata": {},
   "source": [
    "Température moyenne : fait-il si froid à Rennes !?"
   ]
  },
  {
   "cell_type": "code",
   "execution_count": 12,
   "metadata": {},
   "outputs": [
    {
     "name": "stdout",
     "output_type": "stream",
     "text": [
      "\n",
      "ans =\n",
      "\n",
      "    0.0876\n",
      "\n"
     ]
    }
   ],
   "source": [
    "mean(Temp)"
   ]
  },
  {
   "cell_type": "markdown",
   "metadata": {},
   "source": [
    "Réponse : non, il y a « juste » des données **abberrantes**.\n",
    "\n",
    "\n",
    "<div style=\"background:#d7ffb0;border: 1px solid #4ea000;padding:5px;\">\n",
    "    Bonne pratique : toujours <strong>regarder</strong> les données avant de les utiliser. Par exemple avec plot ou histogram.\n",
    "</div>"
   ]
  },
  {
   "cell_type": "code",
   "execution_count": 13,
   "metadata": {},
   "outputs": [
    {
     "data": {
      "image/png": "[encoded data removed]"
     },
     "metadata": {},
     "output_type": "display_data"
    }
   ],
   "source": [
    "plot(Temp)"
   ]
  },
  {
   "cell_type": "code",
   "execution_count": 14,
   "metadata": {},
   "outputs": [
    {
     "name": "stdout",
     "output_type": "stream",
     "text": [
      "\n",
      "ans =\n",
      "\n",
      " -999.9000\n",
      "\n"
     ]
    }
   ],
   "source": [
    "min(Temp)"
   ]
  },
  {
   "cell_type": "markdown",
   "metadata": {},
   "source": [
    "La raison du problème : les données manquantes sont notées -9999 dans le fichier (cf. documentation du jeu de données [data/ISD-Lite 2006 format.pdf](data/ISD-Lite%202006%20format.pdf)). La mise à l'échelle a transformée cette valeur en -999.9\n",
    "\n",
    "Solution : marquer ces valeurs comme manquante\n",
    "\n",
    "* Doc : [Missing Data in MATLAB](https://fr.mathworks.com/help/matlab/data_analysis/missing-data-in-matlab.html)\n",
    "* fonction [missing](https://fr.mathworks.com/help/matlab/ref/missing.html): Create missing values → renvoi un `NaN` dans un contexte de tableau de nombres"
   ]
  },
  {
   "cell_type": "code",
   "execution_count": 26,
   "metadata": {},
   "outputs": [
    {
     "name": "stdout",
     "output_type": "stream",
     "text": [
      "\n",
      "ans =\n",
      "\n",
      "     1   NaN     3\n",
      "\n"
     ]
    }
   ],
   "source": [
    "% Démo de missing utilisé dans un tableau de nombres\n",
    "[1 missing 3]"
   ]
  },
  {
   "cell_type": "markdown",
   "metadata": {},
   "source": [
    "Pour cela, on peut se servir du [logical indexing](https://blogs.mathworks.com/steve/2008/01/28/logical-indexing/) (syntaxe très utile en Matlab, mais aussi avec les tableau numpy en Python)"
   ]
  },
  {
   "cell_type": "code",
   "execution_count": 15,
   "metadata": {},
   "outputs": [
    {
     "name": "stdout",
     "output_type": "stream",
     "text": [
      "\n",
      "ans =\n",
      "\n",
      "  3x1 logical array\n",
      "\n",
      "   0\n",
      "   0\n",
      "   0\n",
      "\n"
     ]
    }
   ],
   "source": [
    "Temp_bad = Temp == -999.9;  %crée en logical array\n",
    "Temp_bad(1:3)"
   ]
  },
  {
   "cell_type": "markdown",
   "metadata": {},
   "source": [
    "Ce vecteur logique peut servir à répondre à quelques questions intéressantes :\n",
    "\n",
    "* Combien y a-t-il de valeurs absurdes ? → Somme du vecteur\n",
    "* Quelle est la proportion de valeurs absurdes ? → Moyenne du vecteur"
   ]
  },
  {
   "cell_type": "code",
   "execution_count": 17,
   "metadata": {},
   "outputs": [
    {
     "name": "stdout",
     "output_type": "stream",
     "text": [
      "   105\n",
      "\n",
      "    1.2015\n",
      "\n"
     ]
    }
   ],
   "source": [
    "disp(sum(Temp_bad))\n",
    "disp(mean(Temp_bad)*100) % en %"
   ]
  },
  {
   "cell_type": "markdown",
   "metadata": {},
   "source": [
    "#### Marquer les valeurs aberrantes comme manquantes"
   ]
  },
  {
   "cell_type": "markdown",
   "metadata": {},
   "source": [
    "L'indexation logique permet de sélectionner les indices `k` pour lequel `Temp_bad(k)` est vrai, cad les valeurs aberrantes. Et on peut faire une assignation sur ces valeurs"
   ]
  },
  {
   "cell_type": "code",
   "execution_count": 18,
   "metadata": {},
   "outputs": [],
   "source": [
    "Temp(Temp_bad) = missing;"
   ]
  },
  {
   "cell_type": "markdown",
   "metadata": {},
   "source": [
    "Par exemple, on peut voir une valeur manquante à l'indice 175:"
   ]
  },
  {
   "cell_type": "code",
   "execution_count": 21,
   "metadata": {},
   "outputs": [
    {
     "name": "stdout",
     "output_type": "stream",
     "text": [
      "   10.3000\n",
      "   10.7000\n",
      "   10.7000\n",
      "       NaN\n",
      "   11.3000\n",
      "   11.7000\n",
      "   11.2000\n",
      "\n"
     ]
    }
   ],
   "source": [
    "disp(Temp(172:178))"
   ]
  },
  {
   "cell_type": "markdown",
   "metadata": {},
   "source": [
    "Cependant, il n'y a pas seulement des données aberrantes, mais il y a aussi des **données non enregistrées**, cad des lignes manquantes dans le fichier\n",
    "\n",
    "Avec [height](https://fr.mathworks.com/help/matlab/ref/height.html) (longueur du tableau) on peut voir qu'il y a moins de lignes que d'heure dans l'années 2015"
   ]
  },
  {
   "cell_type": "code",
   "execution_count": 22,
   "metadata": {},
   "outputs": [
    {
     "name": "stdout",
     "output_type": "stream",
     "text": [
      "\n",
      "ans =\n",
      "\n",
      "    21\n",
      "\n"
     ]
    }
   ],
   "source": [
    "365*24 - height(meteo)"
   ]
  },
  {
   "cell_type": "markdown",
   "metadata": {},
   "source": [
    "Attention, les changements de la variable `Temp` ne sont pas reproduits dans `meteo.Temp`, car c'était une copie. Il faut donc faire la copie dans l'autre sens"
   ]
  },
  {
   "cell_type": "code",
   "execution_count": 23,
   "metadata": {},
   "outputs": [],
   "source": [
    "meteo.Temp = Temp;"
   ]
  },
  {
   "cell_type": "markdown",
   "metadata": {},
   "source": [
    "A présent, le tracé de la température a bonne allure, mais..."
   ]
  },
  {
   "cell_type": "code",
   "execution_count": 24,
   "metadata": {},
   "outputs": [
    {
     "data": {
      "image/png": "[encoded data removed]"
     },
     "metadata": {},
     "output_type": "display_data"
    }
   ],
   "source": [
    "plot(Temp)\n",
    "grid on;"
   ]
  },
  {
   "cell_type": "markdown",
   "metadata": {},
   "source": [
    "... mais attention, les NaNs *ne sont pas détectables* sur le graphique, même s'ils sont bien présents. Exemple avec un zoom autour de l'indice 2200. \n",
    "\n",
    "Et par ailleurs, les 21 lignes manquantes ne sont *pas du tout visibles*, car on ne fait pas un tracé fonction du temps mais des indices."
   ]
  },
  {
   "cell_type": "code",
   "execution_count": 25,
   "metadata": {},
   "outputs": [
    {
     "data": {
      "image/png": "[encoded data removed]"
     },
     "metadata": {},
     "output_type": "display_data"
    }
   ],
   "source": [
    "plot(Temp)\n",
    "xlim([2170 2220])\n",
    "grid on;"
   ]
  },
  {
   "cell_type": "markdown",
   "metadata": {},
   "source": [
    "#### Statistiques avec valeurs manquantes"
   ]
  },
  {
   "cell_type": "markdown",
   "metadata": {},
   "source": [
    "Calcul de la moyenne : attention à la propagation des NaNs.\n",
    "\n",
    "Doc de référence: [Data with Missing Values](https://fr.mathworks.com/help/stats/data-with-missing-values.html)"
   ]
  },
  {
   "cell_type": "code",
   "execution_count": 30,
   "metadata": {},
   "outputs": [
    {
     "name": "stdout",
     "output_type": "stream",
     "text": [
      "\n",
      "ans =\n",
      "\n",
      "   NaN\n",
      "\n"
     ]
    }
   ],
   "source": [
    "1 + NaN"
   ]
  },
  {
   "cell_type": "code",
   "execution_count": 27,
   "metadata": {},
   "outputs": [
    {
     "name": "stdout",
     "output_type": "stream",
     "text": [
      "   NaN\n",
      "\n"
     ]
    }
   ],
   "source": [
    "disp(mean(Temp))"
   ]
  },
  {
   "cell_type": "markdown",
   "metadata": {},
   "source": [
    "Et donc il a fait 12.2°C en moyenne à Rennes en 2015:"
   ]
  },
  {
   "cell_type": "code",
   "execution_count": 28,
   "metadata": {},
   "outputs": [
    {
     "name": "stdout",
     "output_type": "stream",
     "text": [
      "   12.2487\n",
      "\n"
     ]
    }
   ],
   "source": [
    "disp(nanmean(Temp))"
   ]
  },
  {
   "cell_type": "markdown",
   "metadata": {},
   "source": [
    "Pour voir la répartition des données : histogramme \n",
    "\n",
    "cf. [histogram](https://fr.mathworks.com/help/matlab/ref/matlab.graphics.chart.primitive.histogram.html)"
   ]
  },
  {
   "cell_type": "code",
   "execution_count": 29,
   "metadata": {},
   "outputs": [
    {
     "data": {
      "image/png": "[encoded data removed]"
     },
     "metadata": {},
     "output_type": "display_data"
    }
   ],
   "source": [
    "histogram(Temp)\n",
    "xlabel('Température (°C)')"
   ]
  },
  {
   "cell_type": "markdown",
   "metadata": {},
   "source": [
    "### Dates : parsing (décodage) et représentation\n",
    "\n",
    "Fonction constructeur [datetime](https://fr.mathworks.com/help/matlab/ref/datetime.html): Arrays that represent points in time.\n",
    "\n",
    "Le type compagnon est [duration](https://fr.mathworks.com/help/matlab/ref/duration.html), que l'on peut créer succintement avec `days`, `hours`…"
   ]
  },
  {
   "cell_type": "code",
   "execution_count": 33,
   "metadata": {},
   "outputs": [
    {
     "name": "stdout",
     "output_type": "stream",
     "text": [
      "   28-Sep-2019 00:00:00\n",
      "\n"
     ]
    }
   ],
   "source": [
    "% Démo de l'arithmétique des datetime et duration:\n",
    "d = datetime('2019-09-25');\n",
    "days(3); % ou : days * 3\n",
    "disp(d + days(3))"
   ]
  },
  {
   "cell_type": "markdown",
   "metadata": {},
   "source": [
    "Datetime pour le fichier météo à Rennes :"
   ]
  },
  {
   "cell_type": "code",
   "execution_count": 34,
   "metadata": {},
   "outputs": [
    {
     "name": "stdout",
     "output_type": "stream",
     "text": [
      "\n",
      "ans = \n",
      "\n",
      "  3x1 datetime array\n",
      "\n",
      "   01-Jan-2015 00:00:00\n",
      "   01-Jan-2015 01:00:00\n",
      "   01-Jan-2015 02:00:00\n",
      "\n"
     ]
    }
   ],
   "source": [
    "meteo_date = datetime(meteo.Annee, meteo.Mois, meteo.Jour,...\n",
    "                      meteo.Heure, 0,0);\n",
    "meteo_date(1:3)"
   ]
  },
  {
   "cell_type": "code",
   "execution_count": 35,
   "metadata": {},
   "outputs": [
    {
     "name": "stdout",
     "output_type": "stream",
     "text": [
      "datetime\n"
     ]
    }
   ],
   "source": [
    "disp(class(meteo_date))"
   ]
  },
  {
   "cell_type": "markdown",
   "metadata": {},
   "source": [
    "#### Conversion table → timetable\n",
    "\n",
    "Une fois la date décodée, le conteneur `table` peut être converti en `timetable` qui facilite le traitement des données horodatées. \n",
    "*(introduced in R2016b)*.\n",
    "\n",
    "cf [Timetables](https://fr.mathworks.com/help/matlab/timetables.html) doc"
   ]
  },
  {
   "cell_type": "code",
   "execution_count": 36,
   "metadata": {},
   "outputs": [
    {
     "name": "stdout",
     "output_type": "stream",
     "text": [
      "\n",
      "ans =\n",
      "\n",
      "  3x12 timetable\n",
      "\n",
      "            Time            Annee    Mois    Jour    Heure    Temp    Var6    Var7     Var8    Var9    Var10    Var11    Var12\n",
      "    ____________________    _____    ____    ____    _____    ____    ____    _____    ____    ____    _____    _____    _____\n",
      "\n",
      "    01-Jan-2015 00:00:00    2015      1       1        0      -2.5    -35     10376    140      15       0      -9999        0\n",
      "    01-Jan-2015 01:00:00    2015      1       1        1        -3    -40     -9999    150      10       0      -9999    -9999\n",
      "    01-Jan-2015 02:00:00    2015      1       1        2        -3    -40     -9999    150      10       0      -9999    -9999\n",
      "\n"
     ]
    }
   ],
   "source": [
    "meteo_TT = table2timetable(meteo, 'RowTimes', meteo_date);\n",
    "head(meteo_TT, 3)"
   ]
  },
  {
   "cell_type": "markdown",
   "metadata": {},
   "source": [
    "#### Analyse de l'échantillonnage\n",
    "\n",
    "L'inspection superficielle de l'archive météo montre un enregistrement toutes les heures, mais est-ce vraiement périorique ([isregular(TT)](https://fr.mathworks.com/help/matlab/ref/timetable.isregular.html)). Réponse : non (on a vu plus haut qu'il manque 21 heures)"
   ]
  },
  {
   "cell_type": "code",
   "execution_count": 85,
   "metadata": {},
   "outputs": [
    {
     "name": "stdout",
     "output_type": "stream",
     "text": [
      "   0\n",
      "\n"
     ]
    }
   ],
   "source": [
    "disp(isregular(meteo_TT))"
   ]
  },
  {
   "cell_type": "markdown",
   "metadata": {},
   "source": [
    "Si on veut plus de détail, la fonction Matlab classique `diff` (filtre $y_k = u_k -u_{k-1}$) fonctionne aussi avec les tableaux `datetime` (elle renvoie un tableau de `duration`) :"
   ]
  },
  {
   "cell_type": "code",
   "execution_count": 88,
   "metadata": {},
   "outputs": [
    {
     "data": {
      "image/png": "[encoded data removed]"
     },
     "metadata": {},
     "output_type": "display_data"
    }
   ],
   "source": [
    "plot(meteo_TT.Time(1:end-1), diff(meteo_TT.Time))\n",
    "grid on"
   ]
  },
  {
   "cell_type": "markdown",
   "metadata": {},
   "source": [
    "#### Sélectionner un intervalle de temps\n",
    "\n",
    "Exemple : mois de juin \n",
    "\n",
    "méthode 1 (plus générique) avec une indexation par un [timerange](https://fr.mathworks.com/help/matlab/ref/timerange.html)"
   ]
  },
  {
   "cell_type": "code",
   "execution_count": 37,
   "metadata": {},
   "outputs": [
    {
     "name": "stdout",
     "output_type": "stream",
     "text": [
      "   17.1027\n",
      "\n"
     ]
    }
   ],
   "source": [
    "TR = timerange('2015-06-01','2015-07-01');\n",
    "meteo_juin = meteo_TT(TR, :);\n",
    "disp(nanmean(meteo_juin.Temp))"
   ]
  },
  {
   "cell_type": "markdown",
   "metadata": {},
   "source": [
    "méthode 2 (plus spécifique) : avec logical indexing"
   ]
  },
  {
   "cell_type": "code",
   "execution_count": 38,
   "metadata": {},
   "outputs": [
    {
     "name": "stdout",
     "output_type": "stream",
     "text": [
      "   17.1027\n",
      "\n"
     ]
    }
   ],
   "source": [
    "meteo_juin2 = meteo(meteo_date.Month==6, :);\n",
    "disp(nanmean(meteo_juin2.Temp))"
   ]
  },
  {
   "cell_type": "markdown",
   "metadata": {},
   "source": [
    "À présent, le tracé temporel peut se faire avec les dates, en fournissant le vecteur de datetime en abscisse de `plot`:"
   ]
  },
  {
   "cell_type": "code",
   "execution_count": 43,
   "metadata": {},
   "outputs": [
    {
     "data": {
      "image/png": "[encoded data removed]"
     },
     "metadata": {},
     "output_type": "display_data"
    }
   ],
   "source": [
    "plot(meteo_juin.Time, meteo_juin.Temp)\n",
    "title('Rennes, juin 2015')\n",
    "ylabel('Température °C')"
   ]
  },
  {
   "cell_type": "markdown",
   "metadata": {},
   "source": [
    "Rappel : un histogramme est toujours utile, par exemple pour constater, sans faire de tracé temporel, que la température peut descendre jusqu'à 5°C en juin !"
   ]
  },
  {
   "cell_type": "code",
   "execution_count": 40,
   "metadata": {},
   "outputs": [
    {
     "data": {
      "image/png": "[encoded data removed]"
     },
     "metadata": {},
     "output_type": "display_data"
    }
   ],
   "source": [
    "histogram(meteo_juin2.Temp)\n",
    "title('Rennes, juin 2015')\n",
    "xlabel('Température (°C)')"
   ]
  },
  {
   "cell_type": "markdown",
   "metadata": {},
   "source": [
    "## 2) Mise en forme & synchronisation de données\n",
    "\n",
    "Fichiers : log capteur de qualité de l’air salle 404 (et archive météo)\n",
    "\n",
    "Aperçu de `log-20150309-171821.csv` :\n",
    "```\n",
    "date;time;type;value;unit\n",
    "09/03/2015;17:18:29.244;carbon dioxide;1630;ppm\n",
    "09/03/2015;17:19:12.416;indoor relative humidity;37.0;%\n",
    "09/03/2015;17:20:12.689;indoor relative humidity;37.0;%\n",
    "```\n",
    "→ Un beau fichier CSV bien formaté, séparé par des `;`, avec des nombres et du texte"
   ]
  },
  {
   "cell_type": "code",
   "execution_count": 45,
   "metadata": {},
   "outputs": [
    {
     "name": "stdout",
     "output_type": "stream",
     "text": [
      "       date           time                   type               value    unit \n",
      "    __________    ____________    __________________________    _____    _____\n",
      "\n",
      "    09/03/2015    17:18:29.244    'carbon dioxide'              1630     'ppm'\n",
      "    09/03/2015    17:19:12.416    'indoor relative humidity'      37     '%'  \n",
      "    09/03/2015    17:20:12.689    'indoor relative humidity'      37     '%'  \n",
      "\n"
     ]
    }
   ],
   "source": [
    "%% Chargement données capteur qualité de l'air\n",
    "log = readtable('./data/log-20150309-171821.csv');\n",
    "disp(head(log, 3))"
   ]
  },
  {
   "cell_type": "markdown",
   "metadata": {},
   "source": [
    "Observation sur les dates :\n",
    "* la colonne `date` est bien parsée en `datetime`\n",
    "* la colonne `time` est bien parsée en `duration`"
   ]
  },
  {
   "cell_type": "code",
   "execution_count": 46,
   "metadata": {},
   "outputs": [
    {
     "name": "stdout",
     "output_type": "stream",
     "text": [
      "datetime\n",
      "duration\n"
     ]
    }
   ],
   "source": [
    "disp(class(log.date)) % datetime\n",
    "disp(class(log.time)) % duration"
   ]
  },
  {
   "cell_type": "markdown",
   "metadata": {},
   "source": [
    "Cependant, dans Matlab R2017b, colonne `time` n'était pas parsée. Il fallait faire le décodage à la main:"
   ]
  },
  {
   "cell_type": "code",
   "execution_count": null,
   "metadata": {},
   "outputs": [],
   "source": [
    "% log_time = datetime(log.time, 'InputFormat', 'HH:mm:ss.SSS');\n",
    "% log_time = timeofday(log_time); % datetime → duration"
   ]
  },
  {
   "cell_type": "markdown",
   "metadata": {},
   "source": [
    "Combinaison de la date et de l'heure : addition. Cependant, l'affichage est *trompeur* (Note : sur la version de Matlab 2018b de la salle 409, il n'y a pas ce problème…)"
   ]
  },
  {
   "cell_type": "code",
   "execution_count": 49,
   "metadata": {},
   "outputs": [
    {
     "name": "stdout",
     "output_type": "stream",
     "text": [
      "   09/03/2015\n",
      "   09/03/2015\n",
      "   09/03/2015\n",
      "\n"
     ]
    }
   ],
   "source": [
    "log_datetime = log.date + log.time;\n",
    "disp(log_datetime(1:3))"
   ]
  },
  {
   "cell_type": "markdown",
   "metadata": {},
   "source": [
    "**À lire absolument** : [datetime.Format](https://fr.mathworks.com/help/matlab/ref/datetime.html#buhzxmk-1-Format)"
   ]
  },
  {
   "cell_type": "code",
   "execution_count": 51,
   "metadata": {},
   "outputs": [
    {
     "name": "stdout",
     "output_type": "stream",
     "text": [
      "\n",
      "ans =\n",
      "\n",
      "    'dd/MM/uuuu'\n",
      "\n"
     ]
    }
   ],
   "source": [
    "log_datetime.Format"
   ]
  },
  {
   "cell_type": "markdown",
   "metadata": {},
   "source": [
    "En attribuant à `log_datetime` une chaine de formattage plus adaptée, on obtient un affichage approprié :"
   ]
  },
  {
   "cell_type": "code",
   "execution_count": 53,
   "metadata": {},
   "outputs": [
    {
     "name": "stdout",
     "output_type": "stream",
     "text": [
      "   2015-03-09 17:18:29.244\n",
      "   2015-03-09 17:19:12.416\n",
      "   2015-03-09 17:20:12.689\n",
      "\n"
     ]
    }
   ],
   "source": [
    "%log_datetime.Format = 'default';\n",
    "log_datetime.Format = 'yyyy-MM-dd HH:mm:ss.SSS';\n",
    "disp(log_datetime(1:3))"
   ]
  },
  {
   "cell_type": "markdown",
   "metadata": {},
   "source": [
    "Conversion en Timetable:"
   ]
  },
  {
   "cell_type": "code",
   "execution_count": 54,
   "metadata": {},
   "outputs": [
    {
     "name": "stdout",
     "output_type": "stream",
     "text": [
      "             Time                 date           time                   type               value    unit \n",
      "    _______________________    __________    ____________    __________________________    _____    _____\n",
      "\n",
      "    2015-03-09 17:18:29.244    09/03/2015    17:18:29.244    'carbon dioxide'              1630     'ppm'\n",
      "    2015-03-09 17:19:12.416    09/03/2015    17:19:12.416    'indoor relative humidity'      37     '%'  \n",
      "    2015-03-09 17:20:12.689    09/03/2015    17:20:12.689    'indoor relative humidity'      37     '%'  \n",
      "\n"
     ]
    }
   ],
   "source": [
    "log_TT = table2timetable(log, 'RowTimes', log_datetime);\n",
    "disp(head(log_TT, 3))"
   ]
  },
  {
   "cell_type": "markdown",
   "metadata": {},
   "source": [
    "De façon générale, le datetime Format est la seule solution pour parser des dates suffisamment bizarres pour que Matlab ne détecte pas le format tout seul. Exemple :"
   ]
  },
  {
   "cell_type": "code",
   "execution_count": 55,
   "metadata": {},
   "outputs": [
    {
     "name": "stdout",
     "output_type": "stream",
     "text": [
      "Error using datetime (line 635)\n",
      "Could not recognize the format of the date/time text. You can specify a format using the 'InputFormat' parameter. If the date/time text contain day, month, or time zone names in a language foreign to the 'en_US' locale, those might not be recognized. You can specify a different locale using the 'Locale' parameter.\n"
     ]
    }
   ],
   "source": [
    "dates_bizarres = {'01/09/2019 à 01h25' '01/10/2019 à 02h45'};\n",
    "datetime(dates_bizarres)"
   ]
  },
  {
   "cell_type": "code",
   "execution_count": 56,
   "metadata": {},
   "outputs": [
    {
     "name": "stdout",
     "output_type": "stream",
     "text": [
      "   01-Sep-2019 01:25:00   01-Oct-2019 02:45:00\n",
      "\n"
     ]
    }
   ],
   "source": [
    "disp(datetime(dates_bizarres, 'InputFormat', 'dd/MM/yyyy à HH''h''mm' ))"
   ]
  },
  {
   "cell_type": "markdown",
   "metadata": {},
   "source": [
    "### Données catégorielles & Statistiques par groupes\n",
    "\n",
    "Certaines données sont à valeur discrète. Elle sont appelées « [variables catégorielles](https://fr.wikipedia.org/wiki/Variable_cat%C3%A9gorielle) » Exemples :\n",
    "\n",
    "* Fichier météo à Rennes : Mois = 1, 2, 3... (entier)\n",
    "* Log capteur : type = 'carbon dioxide', ... (chaîne de caractères)\n",
    "* Champs `Month`, `Day`, `Hour`… d’un tableau `datetime`\n",
    "\n",
    "Pour les catégories numériques, pas de problème, mais par contre le catégoriée représentées par des chaînes de caractères sont très inefficaces.\n",
    "Il y a une alternative dédiée et beaucoup plus efficace : le type [categorical](https://fr.mathworks.com/help/matlab/ref/categorical.html) (voir aussi doc [Categorical Arrays](https://fr.mathworks.com/help/matlab/categorical-arrays.html))."
   ]
  },
  {
   "cell_type": "code",
   "execution_count": 59,
   "metadata": {},
   "outputs": [
    {
     "name": "stdout",
     "output_type": "stream",
     "text": [
      "cell\n",
      "char\n"
     ]
    }
   ],
   "source": [
    "% log.type est un cell array de chaine de caractères\n",
    "disp(class(log.type))\n",
    "disp(class(log.type{1}))"
   ]
  },
  {
   "cell_type": "markdown",
   "metadata": {},
   "source": [
    "Colonne `type` : 118 008 chaines de caractères, pesant 18 Mo"
   ]
  },
  {
   "cell_type": "code",
   "execution_count": 60,
   "metadata": {},
   "outputs": [
    {
     "name": "stdout",
     "output_type": "stream",
     "text": [
      "  Name           Size               Bytes  Class    Attributes\n",
      "\n",
      "  type      118008x1             18202288  cell               \n",
      "\n"
     ]
    }
   ],
   "source": [
    "type = log.type;\n",
    "whos type"
   ]
  },
  {
   "cell_type": "markdown",
   "metadata": {},
   "source": [
    "La conversion en [categorical](https://fr.mathworks.com/help/matlab/ref/categorical.html) ramène le poids à peine plus de 118 ko (~1 octet par élément)"
   ]
  },
  {
   "cell_type": "code",
   "execution_count": 61,
   "metadata": {},
   "outputs": [
    {
     "name": "stdout",
     "output_type": "stream",
     "text": [
      "  Name           Size             Bytes  Class          Attributes\n",
      "\n",
      "  type      118008x1             118916  categorical              \n",
      "\n"
     ]
    }
   ],
   "source": [
    "type = categorical(type);\n",
    "whos type"
   ]
  },
  {
   "cell_type": "markdown",
   "metadata": {},
   "source": [
    "Note : on peut observer la disparition des `'` dans la colonne `type` (et on pourrait appliquer la même conversion à la colonne `unit`)"
   ]
  },
  {
   "cell_type": "code",
   "execution_count": 62,
   "metadata": {},
   "outputs": [
    {
     "name": "stdout",
     "output_type": "stream",
     "text": [
      "       date           time                  type              value    unit \n",
      "    __________    ____________    ________________________    _____    _____\n",
      "\n",
      "    09/03/2015    17:18:29.244    carbon dioxide              1630     'ppm'\n",
      "    09/03/2015    17:19:12.416    indoor relative humidity      37     '%'  \n",
      "    09/03/2015    17:20:12.689    indoor relative humidity      37     '%'  \n",
      "\n"
     ]
    }
   ],
   "source": [
    "log.type = type;\n",
    "disp(head(log, 3))"
   ]
  },
  {
   "cell_type": "markdown",
   "metadata": {},
   "source": [
    "Fonctions utiles :\n",
    "* lister toutes les catégories contenues dans un vecteur: `unique` ou `categories` (renvoient respectivement un categorical ou un cell array de strings)\n",
    "* conter les occurences de chaque categories: [countcats](https://fr.mathworks.com/help/matlab/ref/categorical.countcats.html)"
   ]
  },
  {
   "cell_type": "code",
   "execution_count": 63,
   "metadata": {},
   "outputs": [
    {
     "name": "stdout",
     "output_type": "stream",
     "text": [
      "\n",
      "ans = \n",
      "\n",
      "  6x1 categorical array\n",
      "\n",
      "     carbon dioxide \n",
      "     indoor relative humidity \n",
      "     indoor temperature \n",
      "     outdoor temperature \n",
      "     solar Irradiance \n",
      "     volatile organic compounds \n",
      "\n"
     ]
    }
   ],
   "source": [
    "unique(type)"
   ]
  },
  {
   "cell_type": "code",
   "execution_count": 64,
   "metadata": {},
   "outputs": [
    {
     "name": "stdout",
     "output_type": "stream",
     "text": [
      "\n",
      "ans =\n",
      "\n",
      "  6x1 cell array\n",
      "\n",
      "    {'carbon dioxide'            }\n",
      "    {'indoor relative humidity'  }\n",
      "    {'indoor temperature'        }\n",
      "    {'outdoor temperature'       }\n",
      "    {'solar Irradiance'          }\n",
      "    {'volatile organic compounds'}\n",
      "\n"
     ]
    }
   ],
   "source": [
    "categories(type)"
   ]
  },
  {
   "cell_type": "markdown",
   "metadata": {},
   "source": [
    "Comptage : on en déduit que c'est pour 'indoor relative humidity' que l'on a le plus de mesures."
   ]
  },
  {
   "cell_type": "code",
   "execution_count": 66,
   "metadata": {},
   "outputs": [
    {
     "name": "stdout",
     "output_type": "stream",
     "text": [
      "\n",
      "ans =\n",
      "\n",
      "       17612\n",
      "       52842\n",
      "       17610\n",
      "        1902\n",
      "       10429\n",
      "       17613\n",
      "\n"
     ]
    }
   ],
   "source": [
    "countcats(type)"
   ]
  },
  {
   "cell_type": "markdown",
   "metadata": {},
   "source": [
    "#### Statistiques par groupes, boxplot\n",
    "\n",
    "Les variables catégorielles peuvent servir de [Grouping Variables](https://fr.mathworks.com/help/stats/grouping-variables.html), par exemple pour :\n",
    "* calculer des [statistiques par groupes](https://fr.mathworks.com/help/stats/summary-statistics-grouped-by-category.html) (⚠) (avec fonction [grpstats](https://fr.mathworks.com/help/stats/grpstats.html))\n",
    "* tracer un [boxplot](https://fr.mathworks.com/help/stats/boxplot.html).\n",
    "\n",
    "(⚠) Attention: ce guide utilise le type données `dataset array` qui est déprécié au profit de `table`."
   ]
  },
  {
   "cell_type": "markdown",
   "metadata": {},
   "source": [
    "Boxplot: \n",
    "\n",
    "Pour une comparaison rapide de la distribution de la température *pour chaque mois* : boxplot, en utilisant la variable Mois pour le regroupement"
   ]
  },
  {
   "cell_type": "code",
   "execution_count": 73,
   "metadata": {},
   "outputs": [
    {
     "data": {
      "image/png": "[encoded data removed]"
     },
     "metadata": {},
     "output_type": "display_data"
    }
   ],
   "source": [
    "boxplot(meteo.Temp, meteo.Mois)\n",
    "\n",
    "xlabel('Mois')\n",
    "ylabel('Température (°C)')\n",
    "title('Rennes, 2015')\n",
    "% Amélioration: remplacer le xticklabels numérique par le nom des mois\n",
    "% xticklabels({'Jan',  'Fév','Mar', '...'})"
   ]
  },
  {
   "cell_type": "markdown",
   "metadata": {},
   "source": [
    "Statistiques par groupes :\n",
    "\n",
    "Avec [grpstats](https://fr.mathworks.com/help/stats/grpstats.html)\n",
    "on peut obtenir les données sous-jacentes du boxplot, comme la moyenne mois par mois :"
   ]
  },
  {
   "cell_type": "code",
   "execution_count": 68,
   "metadata": {},
   "outputs": [],
   "source": [
    "Temp_by_month_avg = grpstats(meteo.Temp, meteo.Mois, 'mean');"
   ]
  },
  {
   "cell_type": "markdown",
   "metadata": {},
   "source": [
    "Et l'on peut aussi calculer plusieurs stats d'un seul coup, par exemple min et max (toujours mois par mois) :"
   ]
  },
  {
   "cell_type": "code",
   "execution_count": 89,
   "metadata": {},
   "outputs": [
    {
     "data": {
      "image/png": "[encoded data removed]"
     },
     "metadata": {},
     "output_type": "display_data"
    }
   ],
   "source": [
    "[Temp_by_month_max, Temp_by_month_min]  = grpstats(meteo.Temp, meteo.Mois, {'max', 'min'});\n",
    "plot(Temp_by_month_avg, '-d')\n",
    "hold on\n",
    "plot(Temp_by_month_max, '-+')\n",
    "plot(Temp_by_month_min, '-+')\n",
    "legend('mean', 'max', 'min')\n",
    "\n",
    "\n",
    "xlabel('Mois')\n",
    "xlim([0.5, 12.5])\n",
    "ylabel('Température (°C)')\n",
    "title('Statistiques mensuelles à Rennes, 2015')"
   ]
  },
  {
   "cell_type": "markdown",
   "metadata": {},
   "source": [
    "### Empilement/désempilement\n",
    "\n",
    "Les données du capteur de qualité de l'air sont dans un format dit \"long\" ([vs \"narrow\"](https://en.wikipedia.org/wiki/Wide_and_narrow_data)) aussi appelé \"empilé\" (EN : \"stacked\").\n",
    "\n",
    "Pour récupére un seul type de mesure, le logical indexing est suffisant"
   ]
  },
  {
   "cell_type": "code",
   "execution_count": 76,
   "metadata": {},
   "outputs": [
    {
     "name": "stdout",
     "output_type": "stream",
     "text": [
      "    0.1492\n",
      "\n"
     ]
    }
   ],
   "source": [
    "is_Temp_in = type == 'indoor temperature';\n",
    "disp(mean(is_Temp_in)) % proportion de mesures de ce type parmi toutes les mesures"
   ]
  },
  {
   "cell_type": "markdown",
   "metadata": {},
   "source": [
    "Extraction des données de température intérieur, extérieur et concentration CO2 :"
   ]
  },
  {
   "cell_type": "code",
   "execution_count": 94,
   "metadata": {},
   "outputs": [
    {
     "name": "stdout",
     "output_type": "stream",
     "text": [
      "\n",
      "ans =\n",
      "\n",
      "  3x1 timetable\n",
      "\n",
      "             Time              value\n",
      "    _______________________    _____\n",
      "\n",
      "    2015-03-09 17:21:02.496    23.4 \n",
      "    2015-03-09 17:24:03.886    23.3 \n",
      "    2015-03-09 17:27:03.094    23.3 \n",
      "\n"
     ]
    }
   ],
   "source": [
    "Temp_in = log_TT(type == 'indoor temperature', 'value'); %si on veut plusieurs colonnes, utiliser un cell-array {'type', 'value'}\n",
    "Temp_out = log_TT(type == 'outdoor temperature', 'value');\n",
    "CO2 = log_TT(type == 'carbon dioxide', 'value');\n",
    "\n",
    "head(Temp_in, 3)"
   ]
  },
  {
   "cell_type": "markdown",
   "metadata": {},
   "source": [
    "Désempilement automatique: [unstack](https://fr.mathworks.com/help/matlab/ref/unstack.html)"
   ]
  },
  {
   "cell_type": "code",
   "execution_count": 81,
   "metadata": {},
   "outputs": [
    {
     "name": "stdout",
     "output_type": "stream",
     "text": [
      "Warning: Variable names were modified to make them valid MATLAB identifiers.\n",
      "             Time              carbonDioxide    indoorRelativeHumidity    indoorTemperature    outdoorTemperature    solarIrradiance    volatileOrganicCompounds\n",
      "    _______________________    _____________    ______________________    _________________    __________________    _______________    ________________________\n",
      "\n",
      "    2015-03-09 17:18:29.244        1630                  NaN                     NaN                  NaN                  NaN                    NaN           \n",
      "    2015-03-09 17:19:12.416         NaN                   37                     NaN                  NaN                  NaN                    NaN           \n",
      "    2015-03-09 17:20:12.689         NaN                   37                     NaN                  NaN                  NaN                    NaN           \n",
      "\n"
     ]
    }
   ],
   "source": [
    "log_TT_unstack = unstack(log_TT, 'value', 'type'); % log_TT_unstack est plein de NaNs\n",
    "disp(head(log_TT_unstack, 3))"
   ]
  },
  {
   "cell_type": "markdown",
   "metadata": {},
   "source": [
    "On peut alors tracer les données :"
   ]
  },
  {
   "cell_type": "code",
   "execution_count": 105,
   "metadata": {},
   "outputs": [
    {
     "data": {
      "image/png": "[encoded data removed]"
     },
     "metadata": {},
     "output_type": "display_data"
    }
   ],
   "source": [
    "date_lim = [datetime(2015,04,07) datetime(2015,04,11)];\n",
    "\n",
    "subplot(2,1,1)\n",
    "plot(Temp_in.Time, Temp_in.value)\n",
    "ylabel('Température (°C)')\n",
    "xlim(date_lim)\n",
    "\n",
    "subplot(2,1,2)\n",
    "plot(CO2.Time, CO2.value)\n",
    "ylabel('Concentration CO2 (ppm)')\n",
    "xlim(date_lim)"
   ]
  },
  {
   "cell_type": "markdown",
   "metadata": {},
   "source": [
    "Problème : que ce soit par l'extraction à la main via le logical indexing, ou bien avec `unstack`, les mesures des différents capteurs ne sont **pas synchronisées**.\n",
    "\n",
    "Conséquence : impossible de faire des modèles (par ex. une régression d'une variable sur l'autre) ni même un simple nuage de point."
   ]
  },
  {
   "cell_type": "code",
   "execution_count": 84,
   "metadata": {},
   "outputs": [
    {
     "name": "stdout",
     "output_type": "stream",
     "text": [
      "Error using plot\n",
      "Vectors must be the same length.\n"
     ]
    }
   ],
   "source": [
    "plot(Temp_in.Temp_in, CO2.CO2, ',')"
   ]
  },
  {
   "cell_type": "markdown",
   "metadata": {},
   "source": [
    "### Rééchantillonnage, agrégation et resynchronisation\n",
    "\n",
    "#### Rééchantillonage \n",
    "\n",
    "avec [retime](https://fr.mathworks.com/help/matlab/ref/timetable.retime.html) :\n",
    "\n",
    "Syntaxe 1 (la plus simple) :\n",
    "\n",
    "```\n",
    "TT2 = retime(TT1,newTimeStep)\n",
    "TT2 = retime(TT1,newTimeStep,method)\n",
    "```\n",
    "\n",
    "avec :\n",
    "\n",
    "* `newTimeStep` = 'daily', 'hourly', 'minutely'...\n",
    "* `method` indique la méthode d'interpolation ou d'agrégation à utiliser :\n",
    "\n",
    "  * Interpolation : 'nearest', 'previous' (~bloquage d'ordre zéro), 'linear'\n",
    "  * Agrégation : 'mean', 'sum', 'max'… (lorsqu'on veut agréger statistiquement les données en utilisant un pas nettement plus long)\n",
    "\n",
    "Styntaxe 2, pour pouvoir spécifier le pas de temps de façon plus fine\n",
    "(Matlab ≥[R2018a](https://fr.mathworks.com/help/matlab/release-notes.html?category=data-analysis&rntext=retime&startrelease=R2018a&endrelease=R2018a&groupby=release&sortby=descending&searchHighlight=retime)) :\n",
    "\n",
    "```\n",
    "TT2 = retime(TT1,'regular',method,'TimeStep',dt)\n",
    "TT2 = retime(TT1,'regular','TimeStep',dt)\n",
    "```\n",
    "\n",
    "avec `dt` une `duration` quelconque.\n",
    "\n",
    "Remarque : on peut aussi rééchantillonner sur un vecteur temps quelconque passé en argument (syntaxe 3 : `TT2 = retime(TT1,newTimes,method)`)\n"
   ]
  },
  {
   "cell_type": "markdown",
   "metadata": {},
   "source": [
    "Exemple : rééchantillonage à la minute avec `method='previous'` → crée un NaN pour à de 17:21, comme la première mesure date de 17:21:02"
   ]
  },
  {
   "cell_type": "code",
   "execution_count": 112,
   "metadata": {},
   "outputs": [
    {
     "name": "stdout",
     "output_type": "stream",
     "text": [
      "             Time              value\n",
      "    _______________________    _____\n",
      "\n",
      "    2015-03-09 17:21:02.496    23.4 \n",
      "    2015-03-09 17:24:03.886    23.3 \n",
      "    2015-03-09 17:27:03.094    23.3 \n",
      "\n",
      "             Time              value\n",
      "    _______________________    _____\n",
      "\n",
      "    2015-03-09 17:21:00.000     NaN \n",
      "    2015-03-09 17:22:00.000    23.4 \n",
      "    2015-03-09 17:23:00.000    23.4 \n",
      "    2015-03-09 17:24:00.000    23.4 \n",
      "    2015-03-09 17:25:00.000    23.3 \n",
      "    2015-03-09 17:26:00.000    23.3 \n",
      "    2015-03-09 17:27:00.000    23.3 \n",
      "    2015-03-09 17:28:00.000    23.3 \n",
      "\n"
     ]
    }
   ],
   "source": [
    "Temp_in_1m = retime(Temp_in, 'minutely', 'previous');\n",
    "% Equivalent avec sntaxe 2 :\n",
    "Temp_in_1m = retime(Temp_in, 'regular', 'previous', 'TimeStep', minutes(1));\n",
    "\n",
    "% Comparaison avant après\n",
    "disp(head(Temp_in, 3))\n",
    "disp(head(Temp_in_1m, 8))"
   ]
  },
  {
   "cell_type": "markdown",
   "metadata": {},
   "source": [
    "Cependant, si on fait un retime pour chaque série individuellement, on ne pourra quand même pas forcément les concaténer, car les instants de début et de fin ne coincideront pas forcément. Il faut **synchroniser les données**."
   ]
  },
  {
   "cell_type": "markdown",
   "metadata": {},
   "source": [
    "#### Synchroniser des Timetables"
   ]
  },
  {
   "cell_type": "markdown",
   "metadata": {},
   "source": [
    "Deux solutions :\n",
    "\n",
    "* faire un `retime` sur `log_TT_unstack` qui contient déjà toutes les mesures dans des colonnes séparées. Cela va remplir les NaNs\n",
    "* utiliser [synchronize](https://fr.mathworks.com/help/matlab/ref/timetable.synchronize.html) (⚠): *“Synchronize timetables to common time vector, and resample or aggregate data from input timetables”*\n",
    "\n",
    "(⚠ fonction `synchronize` pour les objets `table`, à ne pas confondre avec [synchronize](https://fr.mathworks.com/help/matlab/ref/timeseries.synchronize.html) pour les objets `timeseries `)\n",
    "\n",
    "Méthode 1 : `retime` sur une Timetable “unstacked”:"
   ]
  },
  {
   "cell_type": "code",
   "execution_count": 122,
   "metadata": {},
   "outputs": [
    {
     "name": "stdout",
     "output_type": "stream",
     "text": [
      "             Time              carbonDioxide    indoorRelativeHumidity    indoorTemperature    outdoorTemperature    solarIrradiance    volatileOrganicCompounds\n",
      "    _______________________    _____________    ______________________    _________________    __________________    _______________    ________________________\n",
      "\n",
      "    2015-03-09 17:18:00.000         NaN                  NaN                     NaN                   NaN                 NaN                     NaN          \n",
      "    2015-03-09 17:21:00.000        1630                   36                     NaN                   NaN                 NaN                     NaN          \n",
      "    2015-03-09 17:24:00.000        1630                   36                    23.4                   NaN                  11                     0.5          \n",
      "    2015-03-09 17:27:00.000        1630                   36                    23.3                   NaN                  11                     0.5          \n",
      "    2015-03-09 17:30:00.000        1630                   36                    23.3                   NaN                  11                    0.49          \n",
      "    2015-03-09 17:33:00.000        1650                   36                    23.1                 19.53                  11                     0.5          \n",
      "    2015-03-09 17:36:00.000        1640                   36                    23.1                 19.53                  11                     0.5          \n",
      "    2015-03-09 17:39:00.000        1630                   36                    23.1                 19.53                  11                    0.49          \n",
      "    2015-03-09 17:42:00.000        1630                   37                    23.1                 19.53                   9                    0.49          \n",
      "    2015-03-09 17:45:00.000        1630                   36                      23                 19.53                   9                    0.49          \n",
      "\n"
     ]
    }
   ],
   "source": [
    "log_3m = retime(log_TT_unstack, 'regular', 'previous', 'TimeStep', minutes(3)); % ou method='nearest' si on veut aucun NaN\n",
    "disp(head(log_3m, 10));"
   ]
  },
  {
   "cell_type": "markdown",
   "metadata": {},
   "source": [
    "Après ce rééchantillonnage, `isregular` renvoie bien true"
   ]
  },
  {
   "cell_type": "code",
   "execution_count": 123,
   "metadata": {},
   "outputs": [
    {
     "name": "stdout",
     "output_type": "stream",
     "text": [
      "   1\n",
      "\n"
     ]
    }
   ],
   "source": [
    "disp(isregular(log_3m))"
   ]
  },
  {
   "cell_type": "markdown",
   "metadata": {},
   "source": [
    "La resynchro permet de faire des nuages de points par exemple (et puis ensuite des régressions et autre analyses)"
   ]
  },
  {
   "cell_type": "code",
   "execution_count": 131,
   "metadata": {},
   "outputs": [
    {
     "data": {
      "image/png": "[encoded data removed]"
     },
     "metadata": {},
     "output_type": "display_data"
    }
   ],
   "source": [
    "plot(log_3m.indoorTemperature, log_3m.carbonDioxide, '.')\n",
    "xlabel('Temp int °C')\n",
    "ylabel('CO2 (ppm)')"
   ]
  },
  {
   "cell_type": "markdown",
   "metadata": {},
   "source": [
    "Le même nuage de point, mais avec `scatter`, ce qui permet d'uliser la transparence des points ([alpha](https://fr.mathworks.com/help/matlab/ref/alpha.html))"
   ]
  },
  {
   "cell_type": "code",
   "execution_count": 139,
   "metadata": {},
   "outputs": [
    {
     "data": {
      "image/png": "[encoded data removed]"
     },
     "metadata": {},
     "output_type": "display_data"
    }
   ],
   "source": [
    "s = scatter(log_3m.indoorTemperature, log_3m.carbonDioxide, 'filled', 'SizeData',10);\n",
    "xlabel('Temp int °C')\n",
    "ylabel('CO2 (ppm)')\n",
    "alpha(s, 0.2)"
   ]
  },
  {
   "cell_type": "markdown",
   "metadata": {},
   "source": [
    "Méthode 2 : utiliser [synchronize](https://fr.mathworks.com/help/matlab/ref/timetable.synchronize.html)\n",
    "\n",
    "Comme avec `retime`, il y a deux syntaxes pour indiquer le pas de temps :\n",
    "\n",
    "Syntax 1, avec `newTimeStep` = 'daily', 'hourly', 'minutely'...\n",
    "\n",
    "```\n",
    "TT = synchronize(TT1,TT2,newTimeStep,method)\n",
    "```\n",
    "\n",
    "Syntaxe 2, plus flexible, où `dt` est n'importe quelle `duration` :\n",
    "\n",
    "```\n",
    "TT = synchronize(TT1,TT2,'regular',method,'TimeStep',dt)\n",
    "```\n",
    "\n",
    "Et on n'est pas limité à seulement 2 Timetables. On peut en synchroniser autant que désiré : `TT = synchronize(TT1,...,TTN,___)`\n",
    "\n",
    "\n",
    "Accessoirement, il est possible d'utiliser la syntaxe\n",
    "`TT = synchronize(TT1,TT2,newTimeBasis,method)`\n",
    "où `newTimeBasis` peut être 'union' (*Union of the row times*), 'intersection' (*Intersection of the row times*) et quelques autres, au lieu de spécifier juste un pas de temps."
   ]
  },
  {
   "cell_type": "markdown",
   "metadata": {},
   "source": [
    "Application aux 3 Timetable extraites manuellement de log empilé. Le résultat est très similaire au précédent, mis à part le nom des colonnes (et bien sûr l'absence de certains capteurs)"
   ]
  },
  {
   "cell_type": "code",
   "execution_count": 141,
   "metadata": {},
   "outputs": [
    {
     "name": "stdout",
     "output_type": "stream",
     "text": [
      "             Time              value_Temp_in    value_Temp_out    value_CO2\n",
      "    _______________________    _____________    ______________    _________\n",
      "\n",
      "    2015-03-09 17:18:00.000         NaN               NaN            NaN   \n",
      "    2015-03-09 17:21:00.000         NaN               NaN           1630   \n",
      "    2015-03-09 17:24:00.000        23.4               NaN           1630   \n",
      "    2015-03-09 17:27:00.000        23.3               NaN           1630   \n",
      "    2015-03-09 17:30:00.000        23.3               NaN           1630   \n",
      "    2015-03-09 17:33:00.000        23.1             19.53           1650   \n",
      "    2015-03-09 17:36:00.000        23.1             19.53           1640   \n",
      "    2015-03-09 17:39:00.000        23.1             19.53           1630   \n",
      "    2015-03-09 17:42:00.000        23.1             19.53           1630   \n",
      "    2015-03-09 17:45:00.000          23             19.53           1630   \n",
      "\n"
     ]
    }
   ],
   "source": [
    "log_3m2 = synchronize(Temp_in, Temp_out, CO2, 'regular', 'previous','TimeStep',  minutes(3));\n",
    "disp(head(log_3m2, 10));"
   ]
  },
  {
   "cell_type": "markdown",
   "metadata": {},
   "source": [
    "### Choix de la méthode de rééchantillonnage\n",
    "\n",
    "Il n'y a pas de règle prédéterminée, c'est au cas par cas, en fonction de l'objectif visé, qu'il faut choisir sa méthode.\n",
    "\n",
    "Par exemple, sur un même problème « Comparer la température extérieure (issue du capteur de la salle 404) vs la température à Rennes de l’archive météo »,\n",
    "on peut utiliser deux stratégies : \n",
    "\n",
    "* interpoler les données à pas long (archive météo Δt = 1h) pour les comparer aux données à pas rapide (capteur salle 404 Δt ~ qq minutes)\n",
    "* agréger les données rapides (par ex. par moyennage) pour les comparer aux données à pas long\n",
    "\n",
    "La 2e solution génère bien sûr un tableau de données plus petit. Illustration de la méthode par agrégation"
   ]
  },
  {
   "cell_type": "code",
   "execution_count": 143,
   "metadata": {},
   "outputs": [
    {
     "name": "stdout",
     "output_type": "stream",
     "text": [
      "             Time              value\n",
      "    _______________________    _____\n",
      "\n",
      "    2015-03-09 17:00:00.000    19.53\n",
      "    2015-03-09 18:00:00.000    19.35\n",
      "    2015-03-09 19:00:00.000    18.67\n",
      "\n"
     ]
    }
   ],
   "source": [
    "Temp_out_1h = retime(Temp_out, 'hourly', 'mean');\n",
    "disp(head(Temp_out_1h, 3))"
   ]
  },
  {
   "cell_type": "code",
   "execution_count": 163,
   "metadata": {},
   "outputs": [
    {
     "name": "stdout",
     "output_type": "stream",
     "text": [
      "             Time              Temp_ext_404    Temp_StJacques\n",
      "    _______________________    ____________    ______________\n",
      "\n",
      "    2015-03-09 17:00:00.000        19.53            12.6     \n",
      "    2015-03-09 18:00:00.000        19.35            10.4     \n",
      "    2015-03-09 19:00:00.000        18.67             9.2     \n",
      "    2015-03-09 20:00:00.000        18.05             8.2     \n",
      "    2015-03-09 21:00:00.000        17.43             8.2     \n",
      "    2015-03-09 22:00:00.000       17.175             8.1     \n",
      "    2015-03-09 23:00:00.000           17             7.7     \n",
      "    2015-03-10 00:00:00.000       16.825             7.3     \n",
      "\n"
     ]
    }
   ],
   "source": [
    "Temp_out_cmp = synchronize(Temp_out_1h, meteo_TT(:,'Temp'), 'intersection');\n",
    "% Renommage des colonnes\n",
    "Temp_out_cmp.Properties.VariableNames{1} = 'Temp_ext_404';\n",
    "Temp_out_cmp.Properties.VariableNames{2} = 'Temp_StJacques';\n",
    "\n",
    "disp(head(Temp_out_cmp))"
   ]
  },
  {
   "cell_type": "markdown",
   "metadata": {},
   "source": [
    "À présent, la comparaison peut se faire, par exemple avec un nuage de point"
   ]
  },
  {
   "cell_type": "code",
   "execution_count": 172,
   "metadata": {},
   "outputs": [
    {
     "data": {
      "image/png": "[encoded data removed]"
     },
     "metadata": {},
     "output_type": "display_data"
    }
   ],
   "source": [
    "plot(Temp_out_cmp.Temp_StJacques, Temp_out_cmp.Temp_ext_404, 'o')\n",
    "hold on\n",
    "plot([-5 25], [-5 25], 'k--') % ligne de référence y=x\n",
    "axis square\n",
    "xlabel('Temp station Rennes St Jacques')\n",
    "ylabel('Temp capteur ext 404')\n",
    "grid"
   ]
  },
  {
   "cell_type": "code",
   "execution_count": 178,
   "metadata": {},
   "outputs": [
    {
     "data": {
      "image/png": "[encoded data removed]"
     },
     "metadata": {},
     "output_type": "display_data"
    }
   ],
   "source": [
    "date_lim = [datetime(2015,04,02) datetime(2015,04,14)];\n",
    "\n",
    "plot(Temp_out_cmp.Time, Temp_out_cmp.Temp_StJacques)\n",
    "hold on\n",
    "plot(Temp_out_cmp.Time, Temp_out_cmp.Temp_ext_404)\n",
    "\n",
    "legend('St Jacques', 'Capteur ext 404')\n",
    "title('Deux mesures de température extérieure')\n",
    "ylabel('Température (°C)')\n",
    "xlim(date_lim)\n",
    "grid on"
   ]
  },
  {
   "cell_type": "markdown",
   "metadata": {},
   "source": [
    "Commentaire : le capteur de température extérieure est posé sur le rebord de fenêtre, et ça se ressent... (et en plus : éclairement direct du soleil)"
   ]
  },
  {
   "cell_type": "markdown",
   "metadata": {},
   "source": [
    "## 3) Recap final\n",
    "\n",
    "Fichiers : fiche de présence salle 404 (et log qualité de l’air, archive météo)"
   ]
  }
 ],
 "metadata": {
  "kernelspec": {
   "display_name": "MATLAB",
   "language": "matlab",
   "name": "imatlab"
  },
  "language_info": {
   "codemirror_mode": "octave",
   "file_extension": ".m",
   "mimetype": "text/x-matlab",
   "name": "matlab",
   "nbconvert_exporter": "imatlab._exporter.MatlabExporter",
   "pygments_lexer": "matlab",
   "version": "9.5.0.1178774 (R2018b) Update 5"
  }
 },
 "nbformat": 4,
 "nbformat_minor": 4
}
